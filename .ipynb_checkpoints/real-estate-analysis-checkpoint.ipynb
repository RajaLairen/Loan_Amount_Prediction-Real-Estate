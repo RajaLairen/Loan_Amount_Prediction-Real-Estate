{
 "cells": [
  {
   "cell_type": "markdown",
   "id": "862227d9",
   "metadata": {
    "papermill": {
     "duration": 0.025675,
     "end_time": "2022-07-05T17:10:57.507097",
     "exception": false,
     "start_time": "2022-07-05T17:10:57.481422",
     "status": "completed"
    },
    "tags": []
   },
   "source": [
    "#                                             Real Estate"
   ]
  },
  {
   "cell_type": "markdown",
   "id": "8a44b721",
   "metadata": {
    "papermill": {
     "duration": 0.02169,
     "end_time": "2022-07-05T17:10:57.550720",
     "exception": false,
     "start_time": "2022-07-05T17:10:57.529030",
     "status": "completed"
    },
    "tags": []
   },
   "source": [
    "**DESCRIPTION**\n",
    "\n",
    "A banking institution requires actionable insights into mortgage-backed securities, geographic business investment, and real estate analysis. \n",
    "    The mortgage bank would like to identify potential monthly mortgage expenses for each region based on monthly family income and rental of the real estate.\n",
    "    A statistical model needs to be created to predict the potential demand in dollars amount of loan for each of the region in the USA. Also, there is a need to create a dashboard which would refresh periodically post data retrieval from the agencies.\n",
    "    The dashboard must demonstrate relationships and trends for the key metrics as follows: number of loans, average rental income, monthly mortgage and owner’s cost, family income vs mortgage cost comparison across different regions. The metrics described here do not limit the dashboard to these few."
   ]
  },
  {
   "cell_type": "markdown",
   "id": "84714ee5",
   "metadata": {
    "papermill": {
     "duration": 0.02149,
     "end_time": "2022-07-05T17:10:57.593929",
     "exception": false,
     "start_time": "2022-07-05T17:10:57.572439",
     "status": "completed"
    },
    "tags": []
   },
   "source": [
    "### Data Import and Preparation:"
   ]
  },
  {
   "cell_type": "markdown",
   "id": "5eb3f907",
   "metadata": {
    "papermill": {
     "duration": 0.021661,
     "end_time": "2022-07-05T17:10:57.637364",
     "exception": false,
     "start_time": "2022-07-05T17:10:57.615703",
     "status": "completed"
    },
    "tags": []
   },
   "source": [
    "#### Import data"
   ]
  },
  {
   "cell_type": "code",
   "execution_count": 1,
   "id": "d64244da",
   "metadata": {
    "execution": {
     "iopub.execute_input": "2022-07-05T17:10:57.684045Z",
     "iopub.status.busy": "2022-07-05T17:10:57.683503Z",
     "iopub.status.idle": "2022-07-05T17:10:57.697044Z",
     "shell.execute_reply": "2022-07-05T17:10:57.696024Z"
    },
    "papermill": {
     "duration": 0.040146,
     "end_time": "2022-07-05T17:10:57.699310",
     "exception": false,
     "start_time": "2022-07-05T17:10:57.659164",
     "status": "completed"
    },
    "tags": []
   },
   "outputs": [],
   "source": [
    "import pandas as pd\n",
    "import numpy as np"
   ]
  },
  {
   "cell_type": "code",
   "execution_count": 2,
   "id": "1af1564e",
   "metadata": {
    "execution": {
     "iopub.execute_input": "2022-07-05T17:10:57.746246Z",
     "iopub.status.busy": "2022-07-05T17:10:57.745078Z",
     "iopub.status.idle": "2022-07-05T17:10:59.038024Z",
     "shell.execute_reply": "2022-07-05T17:10:59.036221Z"
    },
    "papermill": {
     "duration": 1.319126,
     "end_time": "2022-07-05T17:10:59.040716",
     "exception": false,
     "start_time": "2022-07-05T17:10:57.721590",
     "status": "completed"
    },
    "tags": []
   },
   "outputs": [
    {
     "name": "stdout",
     "output_type": "stream",
     "text": [
      "(27321, 80)\n",
      "(11709, 80)\n"
     ]
    }
   ],
   "source": [
    "df_train=pd.read_csv('../input/real-estate/train.csv')\n",
    "df_test=pd.read_csv('../input/real-estate/test.csv')\n",
    "print(df_train.shape)\n",
    "print(df_test.shape)"
   ]
  },
  {
   "cell_type": "code",
   "execution_count": 3,
   "id": "18e39dcd",
   "metadata": {
    "execution": {
     "iopub.execute_input": "2022-07-05T17:10:59.090310Z",
     "iopub.status.busy": "2022-07-05T17:10:59.088892Z",
     "iopub.status.idle": "2022-07-05T17:10:59.104812Z",
     "shell.execute_reply": "2022-07-05T17:10:59.103943Z"
    },
    "papermill": {
     "duration": 0.042769,
     "end_time": "2022-07-05T17:10:59.107346",
     "exception": false,
     "start_time": "2022-07-05T17:10:59.064577",
     "status": "completed"
    },
    "tags": []
   },
   "outputs": [
    {
     "data": {
      "text/plain": [
       "UID              int64\n",
       "BLOCKID        float64\n",
       "SUMLEVEL         int64\n",
       "COUNTYID         int64\n",
       "STATEID          int64\n",
       "                ...   \n",
       "pct_own        float64\n",
       "married        float64\n",
       "married_snp    float64\n",
       "separated      float64\n",
       "divorced       float64\n",
       "Length: 80, dtype: object"
      ]
     },
     "execution_count": 3,
     "metadata": {},
     "output_type": "execute_result"
    }
   ],
   "source": [
    "df_train.dtypes"
   ]
  },
  {
   "cell_type": "code",
   "execution_count": 4,
   "id": "73384287",
   "metadata": {
    "execution": {
     "iopub.execute_input": "2022-07-05T17:10:59.159109Z",
     "iopub.status.busy": "2022-07-05T17:10:59.158438Z",
     "iopub.status.idle": "2022-07-05T17:10:59.446702Z",
     "shell.execute_reply": "2022-07-05T17:10:59.445135Z"
    },
    "papermill": {
     "duration": 0.319409,
     "end_time": "2022-07-05T17:10:59.450210",
     "exception": false,
     "start_time": "2022-07-05T17:10:59.130801",
     "status": "completed"
    },
    "tags": []
   },
   "outputs": [
    {
     "data": {
      "text/html": [
       "<div>\n",
       "<style scoped>\n",
       "    .dataframe tbody tr th:only-of-type {\n",
       "        vertical-align: middle;\n",
       "    }\n",
       "\n",
       "    .dataframe tbody tr th {\n",
       "        vertical-align: top;\n",
       "    }\n",
       "\n",
       "    .dataframe thead th {\n",
       "        text-align: right;\n",
       "    }\n",
       "</style>\n",
       "<table border=\"1\" class=\"dataframe\">\n",
       "  <thead>\n",
       "    <tr style=\"text-align: right;\">\n",
       "      <th></th>\n",
       "      <th>UID</th>\n",
       "      <th>BLOCKID</th>\n",
       "      <th>SUMLEVEL</th>\n",
       "      <th>COUNTYID</th>\n",
       "      <th>STATEID</th>\n",
       "      <th>zip_code</th>\n",
       "      <th>area_code</th>\n",
       "      <th>lat</th>\n",
       "      <th>lng</th>\n",
       "      <th>ALand</th>\n",
       "      <th>...</th>\n",
       "      <th>female_age_mean</th>\n",
       "      <th>female_age_median</th>\n",
       "      <th>female_age_stdev</th>\n",
       "      <th>female_age_sample_weight</th>\n",
       "      <th>female_age_samples</th>\n",
       "      <th>pct_own</th>\n",
       "      <th>married</th>\n",
       "      <th>married_snp</th>\n",
       "      <th>separated</th>\n",
       "      <th>divorced</th>\n",
       "    </tr>\n",
       "  </thead>\n",
       "  <tbody>\n",
       "    <tr>\n",
       "      <th>count</th>\n",
       "      <td>27321.000000</td>\n",
       "      <td>0.0</td>\n",
       "      <td>27321.0</td>\n",
       "      <td>27321.000000</td>\n",
       "      <td>27321.000000</td>\n",
       "      <td>27321.000000</td>\n",
       "      <td>27321.000000</td>\n",
       "      <td>27321.000000</td>\n",
       "      <td>27321.000000</td>\n",
       "      <td>2.732100e+04</td>\n",
       "      <td>...</td>\n",
       "      <td>27115.000000</td>\n",
       "      <td>27115.000000</td>\n",
       "      <td>27115.000000</td>\n",
       "      <td>27115.000000</td>\n",
       "      <td>27115.000000</td>\n",
       "      <td>27053.000000</td>\n",
       "      <td>27130.000000</td>\n",
       "      <td>27130.000000</td>\n",
       "      <td>27130.000000</td>\n",
       "      <td>27130.000000</td>\n",
       "    </tr>\n",
       "    <tr>\n",
       "      <th>mean</th>\n",
       "      <td>257331.996303</td>\n",
       "      <td>NaN</td>\n",
       "      <td>140.0</td>\n",
       "      <td>85.646426</td>\n",
       "      <td>28.271806</td>\n",
       "      <td>50081.999524</td>\n",
       "      <td>596.507668</td>\n",
       "      <td>37.508813</td>\n",
       "      <td>-91.288394</td>\n",
       "      <td>1.295106e+08</td>\n",
       "      <td>...</td>\n",
       "      <td>40.319803</td>\n",
       "      <td>40.355099</td>\n",
       "      <td>22.178745</td>\n",
       "      <td>544.238432</td>\n",
       "      <td>2208.761903</td>\n",
       "      <td>0.640434</td>\n",
       "      <td>0.508300</td>\n",
       "      <td>0.047537</td>\n",
       "      <td>0.019089</td>\n",
       "      <td>0.100248</td>\n",
       "    </tr>\n",
       "    <tr>\n",
       "      <th>std</th>\n",
       "      <td>21343.859725</td>\n",
       "      <td>NaN</td>\n",
       "      <td>0.0</td>\n",
       "      <td>98.333097</td>\n",
       "      <td>16.392846</td>\n",
       "      <td>29558.115660</td>\n",
       "      <td>232.497482</td>\n",
       "      <td>5.588268</td>\n",
       "      <td>16.343816</td>\n",
       "      <td>1.275531e+09</td>\n",
       "      <td>...</td>\n",
       "      <td>5.886317</td>\n",
       "      <td>8.039585</td>\n",
       "      <td>2.540257</td>\n",
       "      <td>283.546896</td>\n",
       "      <td>1089.316999</td>\n",
       "      <td>0.226640</td>\n",
       "      <td>0.136860</td>\n",
       "      <td>0.037640</td>\n",
       "      <td>0.020796</td>\n",
       "      <td>0.049055</td>\n",
       "    </tr>\n",
       "    <tr>\n",
       "      <th>min</th>\n",
       "      <td>220342.000000</td>\n",
       "      <td>NaN</td>\n",
       "      <td>140.0</td>\n",
       "      <td>1.000000</td>\n",
       "      <td>1.000000</td>\n",
       "      <td>602.000000</td>\n",
       "      <td>201.000000</td>\n",
       "      <td>17.929085</td>\n",
       "      <td>-165.453872</td>\n",
       "      <td>4.113400e+04</td>\n",
       "      <td>...</td>\n",
       "      <td>16.008330</td>\n",
       "      <td>13.250000</td>\n",
       "      <td>0.556780</td>\n",
       "      <td>0.664700</td>\n",
       "      <td>2.000000</td>\n",
       "      <td>0.000000</td>\n",
       "      <td>0.000000</td>\n",
       "      <td>0.000000</td>\n",
       "      <td>0.000000</td>\n",
       "      <td>0.000000</td>\n",
       "    </tr>\n",
       "    <tr>\n",
       "      <th>25%</th>\n",
       "      <td>238816.000000</td>\n",
       "      <td>NaN</td>\n",
       "      <td>140.0</td>\n",
       "      <td>29.000000</td>\n",
       "      <td>13.000000</td>\n",
       "      <td>26554.000000</td>\n",
       "      <td>405.000000</td>\n",
       "      <td>33.899064</td>\n",
       "      <td>-97.816067</td>\n",
       "      <td>1.799408e+06</td>\n",
       "      <td>...</td>\n",
       "      <td>36.892050</td>\n",
       "      <td>34.916670</td>\n",
       "      <td>21.312135</td>\n",
       "      <td>355.995825</td>\n",
       "      <td>1471.000000</td>\n",
       "      <td>0.502780</td>\n",
       "      <td>0.425102</td>\n",
       "      <td>0.020810</td>\n",
       "      <td>0.004530</td>\n",
       "      <td>0.065800</td>\n",
       "    </tr>\n",
       "    <tr>\n",
       "      <th>50%</th>\n",
       "      <td>257220.000000</td>\n",
       "      <td>NaN</td>\n",
       "      <td>140.0</td>\n",
       "      <td>63.000000</td>\n",
       "      <td>28.000000</td>\n",
       "      <td>47715.000000</td>\n",
       "      <td>614.000000</td>\n",
       "      <td>38.755183</td>\n",
       "      <td>-86.554374</td>\n",
       "      <td>4.866940e+06</td>\n",
       "      <td>...</td>\n",
       "      <td>40.373320</td>\n",
       "      <td>40.583330</td>\n",
       "      <td>22.514410</td>\n",
       "      <td>503.643890</td>\n",
       "      <td>2066.000000</td>\n",
       "      <td>0.690840</td>\n",
       "      <td>0.526665</td>\n",
       "      <td>0.038840</td>\n",
       "      <td>0.013460</td>\n",
       "      <td>0.095205</td>\n",
       "    </tr>\n",
       "    <tr>\n",
       "      <th>75%</th>\n",
       "      <td>275818.000000</td>\n",
       "      <td>NaN</td>\n",
       "      <td>140.0</td>\n",
       "      <td>109.000000</td>\n",
       "      <td>42.000000</td>\n",
       "      <td>77093.000000</td>\n",
       "      <td>801.000000</td>\n",
       "      <td>41.380606</td>\n",
       "      <td>-79.782503</td>\n",
       "      <td>3.359820e+07</td>\n",
       "      <td>...</td>\n",
       "      <td>43.567120</td>\n",
       "      <td>45.416670</td>\n",
       "      <td>23.575260</td>\n",
       "      <td>680.275055</td>\n",
       "      <td>2772.000000</td>\n",
       "      <td>0.817460</td>\n",
       "      <td>0.605760</td>\n",
       "      <td>0.065100</td>\n",
       "      <td>0.027488</td>\n",
       "      <td>0.129000</td>\n",
       "    </tr>\n",
       "    <tr>\n",
       "      <th>max</th>\n",
       "      <td>294334.000000</td>\n",
       "      <td>NaN</td>\n",
       "      <td>140.0</td>\n",
       "      <td>840.000000</td>\n",
       "      <td>72.000000</td>\n",
       "      <td>99925.000000</td>\n",
       "      <td>989.000000</td>\n",
       "      <td>67.074017</td>\n",
       "      <td>-65.379332</td>\n",
       "      <td>1.039510e+11</td>\n",
       "      <td>...</td>\n",
       "      <td>79.837390</td>\n",
       "      <td>82.250000</td>\n",
       "      <td>30.241270</td>\n",
       "      <td>6197.995200</td>\n",
       "      <td>27250.000000</td>\n",
       "      <td>1.000000</td>\n",
       "      <td>1.000000</td>\n",
       "      <td>0.714290</td>\n",
       "      <td>0.714290</td>\n",
       "      <td>1.000000</td>\n",
       "    </tr>\n",
       "  </tbody>\n",
       "</table>\n",
       "<p>8 rows × 74 columns</p>\n",
       "</div>"
      ],
      "text/plain": [
       "                 UID  BLOCKID  SUMLEVEL      COUNTYID       STATEID  \\\n",
       "count   27321.000000      0.0   27321.0  27321.000000  27321.000000   \n",
       "mean   257331.996303      NaN     140.0     85.646426     28.271806   \n",
       "std     21343.859725      NaN       0.0     98.333097     16.392846   \n",
       "min    220342.000000      NaN     140.0      1.000000      1.000000   \n",
       "25%    238816.000000      NaN     140.0     29.000000     13.000000   \n",
       "50%    257220.000000      NaN     140.0     63.000000     28.000000   \n",
       "75%    275818.000000      NaN     140.0    109.000000     42.000000   \n",
       "max    294334.000000      NaN     140.0    840.000000     72.000000   \n",
       "\n",
       "           zip_code     area_code           lat           lng         ALand  \\\n",
       "count  27321.000000  27321.000000  27321.000000  27321.000000  2.732100e+04   \n",
       "mean   50081.999524    596.507668     37.508813    -91.288394  1.295106e+08   \n",
       "std    29558.115660    232.497482      5.588268     16.343816  1.275531e+09   \n",
       "min      602.000000    201.000000     17.929085   -165.453872  4.113400e+04   \n",
       "25%    26554.000000    405.000000     33.899064    -97.816067  1.799408e+06   \n",
       "50%    47715.000000    614.000000     38.755183    -86.554374  4.866940e+06   \n",
       "75%    77093.000000    801.000000     41.380606    -79.782503  3.359820e+07   \n",
       "max    99925.000000    989.000000     67.074017    -65.379332  1.039510e+11   \n",
       "\n",
       "       ...  female_age_mean  female_age_median  female_age_stdev  \\\n",
       "count  ...     27115.000000       27115.000000      27115.000000   \n",
       "mean   ...        40.319803          40.355099         22.178745   \n",
       "std    ...         5.886317           8.039585          2.540257   \n",
       "min    ...        16.008330          13.250000          0.556780   \n",
       "25%    ...        36.892050          34.916670         21.312135   \n",
       "50%    ...        40.373320          40.583330         22.514410   \n",
       "75%    ...        43.567120          45.416670         23.575260   \n",
       "max    ...        79.837390          82.250000         30.241270   \n",
       "\n",
       "       female_age_sample_weight  female_age_samples       pct_own  \\\n",
       "count              27115.000000        27115.000000  27053.000000   \n",
       "mean                 544.238432         2208.761903      0.640434   \n",
       "std                  283.546896         1089.316999      0.226640   \n",
       "min                    0.664700            2.000000      0.000000   \n",
       "25%                  355.995825         1471.000000      0.502780   \n",
       "50%                  503.643890         2066.000000      0.690840   \n",
       "75%                  680.275055         2772.000000      0.817460   \n",
       "max                 6197.995200        27250.000000      1.000000   \n",
       "\n",
       "            married   married_snp     separated      divorced  \n",
       "count  27130.000000  27130.000000  27130.000000  27130.000000  \n",
       "mean       0.508300      0.047537      0.019089      0.100248  \n",
       "std        0.136860      0.037640      0.020796      0.049055  \n",
       "min        0.000000      0.000000      0.000000      0.000000  \n",
       "25%        0.425102      0.020810      0.004530      0.065800  \n",
       "50%        0.526665      0.038840      0.013460      0.095205  \n",
       "75%        0.605760      0.065100      0.027488      0.129000  \n",
       "max        1.000000      0.714290      0.714290      1.000000  \n",
       "\n",
       "[8 rows x 74 columns]"
      ]
     },
     "execution_count": 4,
     "metadata": {},
     "output_type": "execute_result"
    }
   ],
   "source": [
    "df_train.describe()"
   ]
  },
  {
   "cell_type": "markdown",
   "id": "7b8ef5de",
   "metadata": {
    "papermill": {
     "duration": 0.022413,
     "end_time": "2022-07-05T17:10:59.496195",
     "exception": false,
     "start_time": "2022-07-05T17:10:59.473782",
     "status": "completed"
    },
    "tags": []
   },
   "source": [
    "#### Figure out the primary key and look for the requirement of indexing"
   ]
  },
  {
   "cell_type": "code",
   "execution_count": 5,
   "id": "8ce75565",
   "metadata": {
    "execution": {
     "iopub.execute_input": "2022-07-05T17:10:59.544445Z",
     "iopub.status.busy": "2022-07-05T17:10:59.543563Z",
     "iopub.status.idle": "2022-07-05T17:10:59.552547Z",
     "shell.execute_reply": "2022-07-05T17:10:59.551647Z"
    },
    "papermill": {
     "duration": 0.035582,
     "end_time": "2022-07-05T17:10:59.554682",
     "exception": false,
     "start_time": "2022-07-05T17:10:59.519100",
     "status": "completed"
    },
    "tags": []
   },
   "outputs": [
    {
     "data": {
      "text/plain": [
       "UID              int64\n",
       "BLOCKID        float64\n",
       "SUMLEVEL         int64\n",
       "COUNTYID         int64\n",
       "STATEID          int64\n",
       "                ...   \n",
       "pct_own        float64\n",
       "married        float64\n",
       "married_snp    float64\n",
       "separated      float64\n",
       "divorced       float64\n",
       "Length: 80, dtype: object"
      ]
     },
     "execution_count": 5,
     "metadata": {},
     "output_type": "execute_result"
    }
   ],
   "source": [
    "df_train.dtypes"
   ]
  },
  {
   "cell_type": "code",
   "execution_count": 6,
   "id": "6d4fa1b4",
   "metadata": {
    "execution": {
     "iopub.execute_input": "2022-07-05T17:10:59.602894Z",
     "iopub.status.busy": "2022-07-05T17:10:59.602046Z",
     "iopub.status.idle": "2022-07-05T17:10:59.939078Z",
     "shell.execute_reply": "2022-07-05T17:10:59.937595Z"
    },
    "papermill": {
     "duration": 0.365344,
     "end_time": "2022-07-05T17:10:59.942824",
     "exception": false,
     "start_time": "2022-07-05T17:10:59.577480",
     "status": "completed"
    },
    "tags": []
   },
   "outputs": [
    {
     "data": {
      "text/html": [
       "<div>\n",
       "<style scoped>\n",
       "    .dataframe tbody tr th:only-of-type {\n",
       "        vertical-align: middle;\n",
       "    }\n",
       "\n",
       "    .dataframe tbody tr th {\n",
       "        vertical-align: top;\n",
       "    }\n",
       "\n",
       "    .dataframe thead th {\n",
       "        text-align: right;\n",
       "    }\n",
       "</style>\n",
       "<table border=\"1\" class=\"dataframe\">\n",
       "  <thead>\n",
       "    <tr style=\"text-align: right;\">\n",
       "      <th></th>\n",
       "      <th>UID</th>\n",
       "      <th>BLOCKID</th>\n",
       "      <th>SUMLEVEL</th>\n",
       "      <th>COUNTYID</th>\n",
       "      <th>STATEID</th>\n",
       "      <th>zip_code</th>\n",
       "      <th>area_code</th>\n",
       "      <th>lat</th>\n",
       "      <th>lng</th>\n",
       "      <th>ALand</th>\n",
       "      <th>...</th>\n",
       "      <th>female_age_mean</th>\n",
       "      <th>female_age_median</th>\n",
       "      <th>female_age_stdev</th>\n",
       "      <th>female_age_sample_weight</th>\n",
       "      <th>female_age_samples</th>\n",
       "      <th>pct_own</th>\n",
       "      <th>married</th>\n",
       "      <th>married_snp</th>\n",
       "      <th>separated</th>\n",
       "      <th>divorced</th>\n",
       "    </tr>\n",
       "  </thead>\n",
       "  <tbody>\n",
       "    <tr>\n",
       "      <th>count</th>\n",
       "      <td>27321.000000</td>\n",
       "      <td>0.0</td>\n",
       "      <td>27321.0</td>\n",
       "      <td>27321.000000</td>\n",
       "      <td>27321.000000</td>\n",
       "      <td>27321.000000</td>\n",
       "      <td>27321.000000</td>\n",
       "      <td>27321.000000</td>\n",
       "      <td>27321.000000</td>\n",
       "      <td>2.732100e+04</td>\n",
       "      <td>...</td>\n",
       "      <td>27115.000000</td>\n",
       "      <td>27115.000000</td>\n",
       "      <td>27115.000000</td>\n",
       "      <td>27115.000000</td>\n",
       "      <td>27115.000000</td>\n",
       "      <td>27053.000000</td>\n",
       "      <td>27130.000000</td>\n",
       "      <td>27130.000000</td>\n",
       "      <td>27130.000000</td>\n",
       "      <td>27130.000000</td>\n",
       "    </tr>\n",
       "    <tr>\n",
       "      <th>mean</th>\n",
       "      <td>257331.996303</td>\n",
       "      <td>NaN</td>\n",
       "      <td>140.0</td>\n",
       "      <td>85.646426</td>\n",
       "      <td>28.271806</td>\n",
       "      <td>50081.999524</td>\n",
       "      <td>596.507668</td>\n",
       "      <td>37.508813</td>\n",
       "      <td>-91.288394</td>\n",
       "      <td>1.295106e+08</td>\n",
       "      <td>...</td>\n",
       "      <td>40.319803</td>\n",
       "      <td>40.355099</td>\n",
       "      <td>22.178745</td>\n",
       "      <td>544.238432</td>\n",
       "      <td>2208.761903</td>\n",
       "      <td>0.640434</td>\n",
       "      <td>0.508300</td>\n",
       "      <td>0.047537</td>\n",
       "      <td>0.019089</td>\n",
       "      <td>0.100248</td>\n",
       "    </tr>\n",
       "    <tr>\n",
       "      <th>std</th>\n",
       "      <td>21343.859725</td>\n",
       "      <td>NaN</td>\n",
       "      <td>0.0</td>\n",
       "      <td>98.333097</td>\n",
       "      <td>16.392846</td>\n",
       "      <td>29558.115660</td>\n",
       "      <td>232.497482</td>\n",
       "      <td>5.588268</td>\n",
       "      <td>16.343816</td>\n",
       "      <td>1.275531e+09</td>\n",
       "      <td>...</td>\n",
       "      <td>5.886317</td>\n",
       "      <td>8.039585</td>\n",
       "      <td>2.540257</td>\n",
       "      <td>283.546896</td>\n",
       "      <td>1089.316999</td>\n",
       "      <td>0.226640</td>\n",
       "      <td>0.136860</td>\n",
       "      <td>0.037640</td>\n",
       "      <td>0.020796</td>\n",
       "      <td>0.049055</td>\n",
       "    </tr>\n",
       "    <tr>\n",
       "      <th>min</th>\n",
       "      <td>220342.000000</td>\n",
       "      <td>NaN</td>\n",
       "      <td>140.0</td>\n",
       "      <td>1.000000</td>\n",
       "      <td>1.000000</td>\n",
       "      <td>602.000000</td>\n",
       "      <td>201.000000</td>\n",
       "      <td>17.929085</td>\n",
       "      <td>-165.453872</td>\n",
       "      <td>4.113400e+04</td>\n",
       "      <td>...</td>\n",
       "      <td>16.008330</td>\n",
       "      <td>13.250000</td>\n",
       "      <td>0.556780</td>\n",
       "      <td>0.664700</td>\n",
       "      <td>2.000000</td>\n",
       "      <td>0.000000</td>\n",
       "      <td>0.000000</td>\n",
       "      <td>0.000000</td>\n",
       "      <td>0.000000</td>\n",
       "      <td>0.000000</td>\n",
       "    </tr>\n",
       "    <tr>\n",
       "      <th>25%</th>\n",
       "      <td>238816.000000</td>\n",
       "      <td>NaN</td>\n",
       "      <td>140.0</td>\n",
       "      <td>29.000000</td>\n",
       "      <td>13.000000</td>\n",
       "      <td>26554.000000</td>\n",
       "      <td>405.000000</td>\n",
       "      <td>33.899064</td>\n",
       "      <td>-97.816067</td>\n",
       "      <td>1.799408e+06</td>\n",
       "      <td>...</td>\n",
       "      <td>36.892050</td>\n",
       "      <td>34.916670</td>\n",
       "      <td>21.312135</td>\n",
       "      <td>355.995825</td>\n",
       "      <td>1471.000000</td>\n",
       "      <td>0.502780</td>\n",
       "      <td>0.425102</td>\n",
       "      <td>0.020810</td>\n",
       "      <td>0.004530</td>\n",
       "      <td>0.065800</td>\n",
       "    </tr>\n",
       "    <tr>\n",
       "      <th>50%</th>\n",
       "      <td>257220.000000</td>\n",
       "      <td>NaN</td>\n",
       "      <td>140.0</td>\n",
       "      <td>63.000000</td>\n",
       "      <td>28.000000</td>\n",
       "      <td>47715.000000</td>\n",
       "      <td>614.000000</td>\n",
       "      <td>38.755183</td>\n",
       "      <td>-86.554374</td>\n",
       "      <td>4.866940e+06</td>\n",
       "      <td>...</td>\n",
       "      <td>40.373320</td>\n",
       "      <td>40.583330</td>\n",
       "      <td>22.514410</td>\n",
       "      <td>503.643890</td>\n",
       "      <td>2066.000000</td>\n",
       "      <td>0.690840</td>\n",
       "      <td>0.526665</td>\n",
       "      <td>0.038840</td>\n",
       "      <td>0.013460</td>\n",
       "      <td>0.095205</td>\n",
       "    </tr>\n",
       "    <tr>\n",
       "      <th>75%</th>\n",
       "      <td>275818.000000</td>\n",
       "      <td>NaN</td>\n",
       "      <td>140.0</td>\n",
       "      <td>109.000000</td>\n",
       "      <td>42.000000</td>\n",
       "      <td>77093.000000</td>\n",
       "      <td>801.000000</td>\n",
       "      <td>41.380606</td>\n",
       "      <td>-79.782503</td>\n",
       "      <td>3.359820e+07</td>\n",
       "      <td>...</td>\n",
       "      <td>43.567120</td>\n",
       "      <td>45.416670</td>\n",
       "      <td>23.575260</td>\n",
       "      <td>680.275055</td>\n",
       "      <td>2772.000000</td>\n",
       "      <td>0.817460</td>\n",
       "      <td>0.605760</td>\n",
       "      <td>0.065100</td>\n",
       "      <td>0.027488</td>\n",
       "      <td>0.129000</td>\n",
       "    </tr>\n",
       "    <tr>\n",
       "      <th>max</th>\n",
       "      <td>294334.000000</td>\n",
       "      <td>NaN</td>\n",
       "      <td>140.0</td>\n",
       "      <td>840.000000</td>\n",
       "      <td>72.000000</td>\n",
       "      <td>99925.000000</td>\n",
       "      <td>989.000000</td>\n",
       "      <td>67.074017</td>\n",
       "      <td>-65.379332</td>\n",
       "      <td>1.039510e+11</td>\n",
       "      <td>...</td>\n",
       "      <td>79.837390</td>\n",
       "      <td>82.250000</td>\n",
       "      <td>30.241270</td>\n",
       "      <td>6197.995200</td>\n",
       "      <td>27250.000000</td>\n",
       "      <td>1.000000</td>\n",
       "      <td>1.000000</td>\n",
       "      <td>0.714290</td>\n",
       "      <td>0.714290</td>\n",
       "      <td>1.000000</td>\n",
       "    </tr>\n",
       "  </tbody>\n",
       "</table>\n",
       "<p>8 rows × 74 columns</p>\n",
       "</div>"
      ],
      "text/plain": [
       "                 UID  BLOCKID  SUMLEVEL      COUNTYID       STATEID  \\\n",
       "count   27321.000000      0.0   27321.0  27321.000000  27321.000000   \n",
       "mean   257331.996303      NaN     140.0     85.646426     28.271806   \n",
       "std     21343.859725      NaN       0.0     98.333097     16.392846   \n",
       "min    220342.000000      NaN     140.0      1.000000      1.000000   \n",
       "25%    238816.000000      NaN     140.0     29.000000     13.000000   \n",
       "50%    257220.000000      NaN     140.0     63.000000     28.000000   \n",
       "75%    275818.000000      NaN     140.0    109.000000     42.000000   \n",
       "max    294334.000000      NaN     140.0    840.000000     72.000000   \n",
       "\n",
       "           zip_code     area_code           lat           lng         ALand  \\\n",
       "count  27321.000000  27321.000000  27321.000000  27321.000000  2.732100e+04   \n",
       "mean   50081.999524    596.507668     37.508813    -91.288394  1.295106e+08   \n",
       "std    29558.115660    232.497482      5.588268     16.343816  1.275531e+09   \n",
       "min      602.000000    201.000000     17.929085   -165.453872  4.113400e+04   \n",
       "25%    26554.000000    405.000000     33.899064    -97.816067  1.799408e+06   \n",
       "50%    47715.000000    614.000000     38.755183    -86.554374  4.866940e+06   \n",
       "75%    77093.000000    801.000000     41.380606    -79.782503  3.359820e+07   \n",
       "max    99925.000000    989.000000     67.074017    -65.379332  1.039510e+11   \n",
       "\n",
       "       ...  female_age_mean  female_age_median  female_age_stdev  \\\n",
       "count  ...     27115.000000       27115.000000      27115.000000   \n",
       "mean   ...        40.319803          40.355099         22.178745   \n",
       "std    ...         5.886317           8.039585          2.540257   \n",
       "min    ...        16.008330          13.250000          0.556780   \n",
       "25%    ...        36.892050          34.916670         21.312135   \n",
       "50%    ...        40.373320          40.583330         22.514410   \n",
       "75%    ...        43.567120          45.416670         23.575260   \n",
       "max    ...        79.837390          82.250000         30.241270   \n",
       "\n",
       "       female_age_sample_weight  female_age_samples       pct_own  \\\n",
       "count              27115.000000        27115.000000  27053.000000   \n",
       "mean                 544.238432         2208.761903      0.640434   \n",
       "std                  283.546896         1089.316999      0.226640   \n",
       "min                    0.664700            2.000000      0.000000   \n",
       "25%                  355.995825         1471.000000      0.502780   \n",
       "50%                  503.643890         2066.000000      0.690840   \n",
       "75%                  680.275055         2772.000000      0.817460   \n",
       "max                 6197.995200        27250.000000      1.000000   \n",
       "\n",
       "            married   married_snp     separated      divorced  \n",
       "count  27130.000000  27130.000000  27130.000000  27130.000000  \n",
       "mean       0.508300      0.047537      0.019089      0.100248  \n",
       "std        0.136860      0.037640      0.020796      0.049055  \n",
       "min        0.000000      0.000000      0.000000      0.000000  \n",
       "25%        0.425102      0.020810      0.004530      0.065800  \n",
       "50%        0.526665      0.038840      0.013460      0.095205  \n",
       "75%        0.605760      0.065100      0.027488      0.129000  \n",
       "max        1.000000      0.714290      0.714290      1.000000  \n",
       "\n",
       "[8 rows x 74 columns]"
      ]
     },
     "execution_count": 6,
     "metadata": {},
     "output_type": "execute_result"
    }
   ],
   "source": [
    "df_train.describe()"
   ]
  },
  {
   "cell_type": "code",
   "execution_count": 7,
   "id": "c1af2431",
   "metadata": {
    "execution": {
     "iopub.execute_input": "2022-07-05T17:10:59.997381Z",
     "iopub.status.busy": "2022-07-05T17:10:59.996937Z",
     "iopub.status.idle": "2022-07-05T17:11:00.087185Z",
     "shell.execute_reply": "2022-07-05T17:11:00.085823Z"
    },
    "papermill": {
     "duration": 0.121445,
     "end_time": "2022-07-05T17:11:00.089960",
     "exception": false,
     "start_time": "2022-07-05T17:10:59.968515",
     "status": "completed"
    },
    "tags": []
   },
   "outputs": [
    {
     "data": {
      "text/html": [
       "<div>\n",
       "<style scoped>\n",
       "    .dataframe tbody tr th:only-of-type {\n",
       "        vertical-align: middle;\n",
       "    }\n",
       "\n",
       "    .dataframe tbody tr th {\n",
       "        vertical-align: top;\n",
       "    }\n",
       "\n",
       "    .dataframe thead th {\n",
       "        text-align: right;\n",
       "    }\n",
       "</style>\n",
       "<table border=\"1\" class=\"dataframe\">\n",
       "  <thead>\n",
       "    <tr style=\"text-align: right;\">\n",
       "      <th></th>\n",
       "      <th>state</th>\n",
       "      <th>state_ab</th>\n",
       "      <th>city</th>\n",
       "      <th>place</th>\n",
       "      <th>type</th>\n",
       "      <th>primary</th>\n",
       "    </tr>\n",
       "  </thead>\n",
       "  <tbody>\n",
       "    <tr>\n",
       "      <th>count</th>\n",
       "      <td>27321</td>\n",
       "      <td>27321</td>\n",
       "      <td>27321</td>\n",
       "      <td>27321</td>\n",
       "      <td>27321</td>\n",
       "      <td>27321</td>\n",
       "    </tr>\n",
       "    <tr>\n",
       "      <th>unique</th>\n",
       "      <td>52</td>\n",
       "      <td>52</td>\n",
       "      <td>6916</td>\n",
       "      <td>9912</td>\n",
       "      <td>6</td>\n",
       "      <td>1</td>\n",
       "    </tr>\n",
       "    <tr>\n",
       "      <th>top</th>\n",
       "      <td>California</td>\n",
       "      <td>CA</td>\n",
       "      <td>Chicago</td>\n",
       "      <td>New York City</td>\n",
       "      <td>City</td>\n",
       "      <td>tract</td>\n",
       "    </tr>\n",
       "    <tr>\n",
       "      <th>freq</th>\n",
       "      <td>2926</td>\n",
       "      <td>2926</td>\n",
       "      <td>294</td>\n",
       "      <td>490</td>\n",
       "      <td>15237</td>\n",
       "      <td>27321</td>\n",
       "    </tr>\n",
       "  </tbody>\n",
       "</table>\n",
       "</div>"
      ],
      "text/plain": [
       "             state state_ab     city          place   type primary\n",
       "count        27321    27321    27321          27321  27321   27321\n",
       "unique          52       52     6916           9912      6       1\n",
       "top     California       CA  Chicago  New York City   City   tract\n",
       "freq          2926     2926      294            490  15237   27321"
      ]
     },
     "execution_count": 7,
     "metadata": {},
     "output_type": "execute_result"
    }
   ],
   "source": [
    "df_train.describe(include='O')"
   ]
  },
  {
   "cell_type": "code",
   "execution_count": 8,
   "id": "fe6bb5c6",
   "metadata": {
    "execution": {
     "iopub.execute_input": "2022-07-05T17:11:00.143277Z",
     "iopub.status.busy": "2022-07-05T17:11:00.142050Z",
     "iopub.status.idle": "2022-07-05T17:11:00.150703Z",
     "shell.execute_reply": "2022-07-05T17:11:00.149250Z"
    },
    "papermill": {
     "duration": 0.037869,
     "end_time": "2022-07-05T17:11:00.153502",
     "exception": false,
     "start_time": "2022-07-05T17:11:00.115633",
     "status": "completed"
    },
    "tags": []
   },
   "outputs": [],
   "source": [
    "df_train.set_index(keys=['UID'],inplace=True)\n",
    "df_test.set_index(keys=['UID'],inplace=True)"
   ]
  },
  {
   "cell_type": "markdown",
   "id": "afddbe69",
   "metadata": {
    "papermill": {
     "duration": 0.026972,
     "end_time": "2022-07-05T17:11:00.205899",
     "exception": false,
     "start_time": "2022-07-05T17:11:00.178927",
     "status": "completed"
    },
    "tags": []
   },
   "source": [
    "#### Gauge the fill rate of the variables and devise plans for missing value treatment. Please explain explicitly the reason for the treatment chosen for each variable "
   ]
  },
  {
   "cell_type": "code",
   "execution_count": 9,
   "id": "f4ec1700",
   "metadata": {
    "execution": {
     "iopub.execute_input": "2022-07-05T17:11:00.262954Z",
     "iopub.status.busy": "2022-07-05T17:11:00.261524Z",
     "iopub.status.idle": "2022-07-05T17:11:00.296926Z",
     "shell.execute_reply": "2022-07-05T17:11:00.295858Z"
    },
    "papermill": {
     "duration": 0.067687,
     "end_time": "2022-07-05T17:11:00.300187",
     "exception": false,
     "start_time": "2022-07-05T17:11:00.232500",
     "status": "completed"
    },
    "tags": []
   },
   "outputs": [
    {
     "data": {
      "text/plain": [
       "BLOCKID        27321\n",
       "SUMLEVEL           0\n",
       "COUNTYID           0\n",
       "STATEID            0\n",
       "state              0\n",
       "               ...  \n",
       "pct_own          268\n",
       "married          191\n",
       "married_snp      191\n",
       "separated        191\n",
       "divorced         191\n",
       "Length: 79, dtype: int64"
      ]
     },
     "execution_count": 9,
     "metadata": {},
     "output_type": "execute_result"
    }
   ],
   "source": [
    "df_train.isnull().sum()"
   ]
  },
  {
   "cell_type": "code",
   "execution_count": 10,
   "id": "07ea7d2f",
   "metadata": {
    "execution": {
     "iopub.execute_input": "2022-07-05T17:11:00.353072Z",
     "iopub.status.busy": "2022-07-05T17:11:00.352633Z",
     "iopub.status.idle": "2022-07-05T17:11:00.382615Z",
     "shell.execute_reply": "2022-07-05T17:11:00.381110Z"
    },
    "papermill": {
     "duration": 0.059635,
     "end_time": "2022-07-05T17:11:00.385673",
     "exception": false,
     "start_time": "2022-07-05T17:11:00.326038",
     "status": "completed"
    },
    "tags": []
   },
   "outputs": [],
   "source": [
    "df_train.drop(['BLOCKID','SUMLEVEL'], axis=1, inplace=True)\n",
    "df_test.drop(['BLOCKID','SUMLEVEL'],axis=1,inplace=True)"
   ]
  },
  {
   "cell_type": "code",
   "execution_count": 11,
   "id": "e1ac0059",
   "metadata": {
    "execution": {
     "iopub.execute_input": "2022-07-05T17:11:00.439017Z",
     "iopub.status.busy": "2022-07-05T17:11:00.438594Z",
     "iopub.status.idle": "2022-07-05T17:11:00.444662Z",
     "shell.execute_reply": "2022-07-05T17:11:00.443441Z"
    },
    "papermill": {
     "duration": 0.037046,
     "end_time": "2022-07-05T17:11:00.447279",
     "exception": false,
     "start_time": "2022-07-05T17:11:00.410233",
     "status": "completed"
    },
    "tags": []
   },
   "outputs": [],
   "source": [
    "def Check_Null_Col(data):\n",
    "    Null_Variables=[]\n",
    "    for i in data.columns:\n",
    "         if data[i].isna().any()==True:\n",
    "            Null_Variables.append(i)\n",
    "    return Null_Variables"
   ]
  },
  {
   "cell_type": "code",
   "execution_count": 12,
   "id": "d1cdc581",
   "metadata": {
    "execution": {
     "iopub.execute_input": "2022-07-05T17:11:00.500659Z",
     "iopub.status.busy": "2022-07-05T17:11:00.500281Z",
     "iopub.status.idle": "2022-07-05T17:11:01.905554Z",
     "shell.execute_reply": "2022-07-05T17:11:01.904225Z"
    },
    "papermill": {
     "duration": 1.435166,
     "end_time": "2022-07-05T17:11:01.908215",
     "exception": false,
     "start_time": "2022-07-05T17:11:00.473049",
     "status": "completed"
    },
    "tags": []
   },
   "outputs": [],
   "source": [
    "from sklearn.impute import SimpleImputer\n",
    "imp=SimpleImputer(strategy='mean')"
   ]
  },
  {
   "cell_type": "code",
   "execution_count": 13,
   "id": "1dd503a1",
   "metadata": {
    "execution": {
     "iopub.execute_input": "2022-07-05T17:11:01.958793Z",
     "iopub.status.busy": "2022-07-05T17:11:01.957662Z",
     "iopub.status.idle": "2022-07-05T17:11:02.030407Z",
     "shell.execute_reply": "2022-07-05T17:11:02.028952Z"
    },
    "papermill": {
     "duration": 0.101296,
     "end_time": "2022-07-05T17:11:02.033602",
     "exception": false,
     "start_time": "2022-07-05T17:11:01.932306",
     "status": "completed"
    },
    "tags": []
   },
   "outputs": [],
   "source": [
    "Null_val_train=Check_Null_Col(df_train)\n",
    "Null_val_test=Check_Null_Col(df_test)"
   ]
  },
  {
   "cell_type": "code",
   "execution_count": 14,
   "id": "7a3c46bf",
   "metadata": {
    "execution": {
     "iopub.execute_input": "2022-07-05T17:11:02.083235Z",
     "iopub.status.busy": "2022-07-05T17:11:02.082791Z",
     "iopub.status.idle": "2022-07-05T17:11:02.088879Z",
     "shell.execute_reply": "2022-07-05T17:11:02.087480Z"
    },
    "papermill": {
     "duration": 0.033722,
     "end_time": "2022-07-05T17:11:02.090973",
     "exception": false,
     "start_time": "2022-07-05T17:11:02.057251",
     "status": "completed"
    },
    "tags": []
   },
   "outputs": [],
   "source": [
    "def Mean_Imputer(data, nullset):\n",
    "    for i in nullset:\n",
    "        data[i]=imp.fit_transform(data[[i]])"
   ]
  },
  {
   "cell_type": "code",
   "execution_count": 15,
   "id": "b69e798f",
   "metadata": {
    "execution": {
     "iopub.execute_input": "2022-07-05T17:11:02.140881Z",
     "iopub.status.busy": "2022-07-05T17:11:02.140125Z",
     "iopub.status.idle": "2022-07-05T17:11:02.668562Z",
     "shell.execute_reply": "2022-07-05T17:11:02.667334Z"
    },
    "papermill": {
     "duration": 0.556502,
     "end_time": "2022-07-05T17:11:02.671195",
     "exception": false,
     "start_time": "2022-07-05T17:11:02.114693",
     "status": "completed"
    },
    "tags": []
   },
   "outputs": [],
   "source": [
    "Mean_Imputer(df_train,Null_val_train)\n",
    "Mean_Imputer(df_test,Null_val_test)"
   ]
  },
  {
   "cell_type": "code",
   "execution_count": 16,
   "id": "4fa35573",
   "metadata": {
    "execution": {
     "iopub.execute_input": "2022-07-05T17:11:02.724538Z",
     "iopub.status.busy": "2022-07-05T17:11:02.723771Z",
     "iopub.status.idle": "2022-07-05T17:11:02.731328Z",
     "shell.execute_reply": "2022-07-05T17:11:02.729318Z"
    },
    "papermill": {
     "duration": 0.038236,
     "end_time": "2022-07-05T17:11:02.733933",
     "exception": false,
     "start_time": "2022-07-05T17:11:02.695697",
     "status": "completed"
    },
    "tags": []
   },
   "outputs": [
    {
     "name": "stdout",
     "output_type": "stream",
     "text": [
      "(27321, 77)\n",
      "(11709, 77)\n"
     ]
    }
   ],
   "source": [
    "print(df_train.shape)\n",
    "print(df_test.shape)"
   ]
  },
  {
   "cell_type": "code",
   "execution_count": 17,
   "id": "a69bbdd7",
   "metadata": {
    "execution": {
     "iopub.execute_input": "2022-07-05T17:11:02.784887Z",
     "iopub.status.busy": "2022-07-05T17:11:02.784376Z",
     "iopub.status.idle": "2022-07-05T17:11:05.815743Z",
     "shell.execute_reply": "2022-07-05T17:11:05.814137Z"
    },
    "papermill": {
     "duration": 3.060702,
     "end_time": "2022-07-05T17:11:05.818838",
     "exception": false,
     "start_time": "2022-07-05T17:11:02.758136",
     "status": "completed"
    },
    "tags": []
   },
   "outputs": [],
   "source": [
    "df_train.to_csv('clean_train.csv')\n",
    "df_test.to_csv('clean_test.csv')"
   ]
  },
  {
   "cell_type": "markdown",
   "id": "88fe3f17",
   "metadata": {
    "papermill": {
     "duration": 0.026622,
     "end_time": "2022-07-05T17:11:05.870833",
     "exception": false,
     "start_time": "2022-07-05T17:11:05.844211",
     "status": "completed"
    },
    "tags": []
   },
   "source": [
    "## Exploratory Data Analysis (EDA):"
   ]
  },
  {
   "cell_type": "markdown",
   "id": "5424fa80",
   "metadata": {
    "papermill": {
     "duration": 0.025455,
     "end_time": "2022-07-05T17:11:05.921888",
     "exception": false,
     "start_time": "2022-07-05T17:11:05.896433",
     "status": "completed"
    },
    "tags": []
   },
   "source": [
    "#### Perform debt analysis. You may take the following steps:"
   ]
  },
  {
   "cell_type": "markdown",
   "id": "d0eff968",
   "metadata": {
    "papermill": {
     "duration": 0.025161,
     "end_time": "2022-07-05T17:11:05.973798",
     "exception": false,
     "start_time": "2022-07-05T17:11:05.948637",
     "status": "completed"
    },
    "tags": []
   },
   "source": [
    "###### 1. Explore the top 2,500 locations where the percentage of households with a second mortgage is the highest and percent ownership is above 10 percent. Visualize using geo-map. You may keep the upper limit for the percent of households with a second mortgage to 50 percent"
   ]
  },
  {
   "cell_type": "code",
   "execution_count": 18,
   "id": "c109766a",
   "metadata": {
    "execution": {
     "iopub.execute_input": "2022-07-05T17:11:06.028336Z",
     "iopub.status.busy": "2022-07-05T17:11:06.027644Z",
     "iopub.status.idle": "2022-07-05T17:11:06.040555Z",
     "shell.execute_reply": "2022-07-05T17:11:06.039261Z"
    },
    "papermill": {
     "duration": 0.04334,
     "end_time": "2022-07-05T17:11:06.043294",
     "exception": false,
     "start_time": "2022-07-05T17:11:05.999954",
     "status": "completed"
    },
    "tags": []
   },
   "outputs": [],
   "source": [
    "top_2500_loc=df_train[(df_train['second_mortgage']>0.065) & \n",
    "                      (df_train['home_equity']>0.10) ].sort_values(by='second_mortgage', ascending=False).head(2500)"
   ]
  },
  {
   "cell_type": "code",
   "execution_count": 19,
   "id": "e0661ad5",
   "metadata": {
    "execution": {
     "iopub.execute_input": "2022-07-05T17:11:06.092870Z",
     "iopub.status.busy": "2022-07-05T17:11:06.092382Z",
     "iopub.status.idle": "2022-07-05T17:11:06.110480Z",
     "shell.execute_reply": "2022-07-05T17:11:06.109344Z"
    },
    "papermill": {
     "duration": 0.04612,
     "end_time": "2022-07-05T17:11:06.113148",
     "exception": false,
     "start_time": "2022-07-05T17:11:06.067028",
     "status": "completed"
    },
    "tags": []
   },
   "outputs": [
    {
     "data": {
      "text/html": [
       "<div>\n",
       "<style scoped>\n",
       "    .dataframe tbody tr th:only-of-type {\n",
       "        vertical-align: middle;\n",
       "    }\n",
       "\n",
       "    .dataframe tbody tr th {\n",
       "        vertical-align: top;\n",
       "    }\n",
       "\n",
       "    .dataframe thead th {\n",
       "        text-align: right;\n",
       "    }\n",
       "</style>\n",
       "<table border=\"1\" class=\"dataframe\">\n",
       "  <thead>\n",
       "    <tr style=\"text-align: right;\">\n",
       "      <th></th>\n",
       "      <th>state</th>\n",
       "      <th>city</th>\n",
       "      <th>state_ab</th>\n",
       "      <th>place</th>\n",
       "      <th>lat</th>\n",
       "      <th>lng</th>\n",
       "    </tr>\n",
       "    <tr>\n",
       "      <th>UID</th>\n",
       "      <th></th>\n",
       "      <th></th>\n",
       "      <th></th>\n",
       "      <th></th>\n",
       "      <th></th>\n",
       "      <th></th>\n",
       "    </tr>\n",
       "  </thead>\n",
       "  <tbody>\n",
       "    <tr>\n",
       "      <th>249744</th>\n",
       "      <td>Louisiana</td>\n",
       "      <td>Fort Polk</td>\n",
       "      <td>LA</td>\n",
       "      <td>Fort Polk North</td>\n",
       "      <td>31.099608</td>\n",
       "      <td>-93.202088</td>\n",
       "    </tr>\n",
       "    <tr>\n",
       "      <th>290029</th>\n",
       "      <td>Virginia</td>\n",
       "      <td>Alexandria</td>\n",
       "      <td>VA</td>\n",
       "      <td>Bailey's Crossroads</td>\n",
       "      <td>38.828707</td>\n",
       "      <td>-77.121251</td>\n",
       "    </tr>\n",
       "    <tr>\n",
       "      <th>248394</th>\n",
       "      <td>Kentucky</td>\n",
       "      <td>Fort Knox</td>\n",
       "      <td>KY</td>\n",
       "      <td>Fort Knox</td>\n",
       "      <td>37.901474</td>\n",
       "      <td>-85.986474</td>\n",
       "    </tr>\n",
       "    <tr>\n",
       "      <th>247937</th>\n",
       "      <td>Kentucky</td>\n",
       "      <td>Fort Knox</td>\n",
       "      <td>KY</td>\n",
       "      <td>Fort Knox</td>\n",
       "      <td>37.879246</td>\n",
       "      <td>-85.961748</td>\n",
       "    </tr>\n",
       "    <tr>\n",
       "      <th>247937</th>\n",
       "      <td>Kentucky</td>\n",
       "      <td>Fort Knox</td>\n",
       "      <td>KY</td>\n",
       "      <td>Fort Knox</td>\n",
       "      <td>37.879246</td>\n",
       "      <td>-85.961748</td>\n",
       "    </tr>\n",
       "  </tbody>\n",
       "</table>\n",
       "</div>"
      ],
      "text/plain": [
       "            state        city state_ab                place        lat  \\\n",
       "UID                                                                      \n",
       "249744  Louisiana   Fort Polk       LA      Fort Polk North  31.099608   \n",
       "290029   Virginia  Alexandria       VA  Bailey's Crossroads  38.828707   \n",
       "248394   Kentucky   Fort Knox       KY            Fort Knox  37.901474   \n",
       "247937   Kentucky   Fort Knox       KY            Fort Knox  37.879246   \n",
       "247937   Kentucky   Fort Knox       KY            Fort Knox  37.879246   \n",
       "\n",
       "              lng  \n",
       "UID                \n",
       "249744 -93.202088  \n",
       "290029 -77.121251  \n",
       "248394 -85.986474  \n",
       "247937 -85.961748  \n",
       "247937 -85.961748  "
      ]
     },
     "execution_count": 19,
     "metadata": {},
     "output_type": "execute_result"
    }
   ],
   "source": [
    "top_2500_loc=top_2500_loc[['state','city','state_ab','place','lat','lng']]\n",
    "top_2500_loc.head()"
   ]
  },
  {
   "cell_type": "code",
   "execution_count": 20,
   "id": "b4f311d1",
   "metadata": {
    "execution": {
     "iopub.execute_input": "2022-07-05T17:11:06.165552Z",
     "iopub.status.busy": "2022-07-05T17:11:06.165149Z",
     "iopub.status.idle": "2022-07-05T17:11:18.906230Z",
     "shell.execute_reply": "2022-07-05T17:11:18.904511Z"
    },
    "papermill": {
     "duration": 12.77291,
     "end_time": "2022-07-05T17:11:18.911118",
     "exception": false,
     "start_time": "2022-07-05T17:11:06.138208",
     "status": "completed"
    },
    "tags": []
   },
   "outputs": [
    {
     "name": "stdout",
     "output_type": "stream",
     "text": [
      "Requirement already satisfied: geopandas in /opt/conda/lib/python3.7/site-packages (0.10.2)\r\n",
      "Requirement already satisfied: fiona>=1.8 in /opt/conda/lib/python3.7/site-packages (from geopandas) (1.8.21)\r\n",
      "Requirement already satisfied: shapely>=1.6 in /opt/conda/lib/python3.7/site-packages (from geopandas) (1.8.0)\r\n",
      "Requirement already satisfied: pandas>=0.25.0 in /opt/conda/lib/python3.7/site-packages (from geopandas) (1.3.5)\r\n",
      "Requirement already satisfied: pyproj>=2.2.0 in /opt/conda/lib/python3.7/site-packages (from geopandas) (3.1.0)\r\n",
      "Requirement already satisfied: click>=4.0 in /opt/conda/lib/python3.7/site-packages (from fiona>=1.8->geopandas) (8.0.4)\r\n",
      "Requirement already satisfied: setuptools in /opt/conda/lib/python3.7/site-packages (from fiona>=1.8->geopandas) (59.8.0)\r\n",
      "Requirement already satisfied: attrs>=17 in /opt/conda/lib/python3.7/site-packages (from fiona>=1.8->geopandas) (21.4.0)\r\n",
      "Requirement already satisfied: certifi in /opt/conda/lib/python3.7/site-packages (from fiona>=1.8->geopandas) (2022.6.15)\r\n",
      "Requirement already satisfied: click-plugins>=1.0 in /opt/conda/lib/python3.7/site-packages (from fiona>=1.8->geopandas) (1.1.1)\r\n",
      "Requirement already satisfied: six>=1.7 in /opt/conda/lib/python3.7/site-packages (from fiona>=1.8->geopandas) (1.16.0)\r\n",
      "Requirement already satisfied: cligj>=0.5 in /opt/conda/lib/python3.7/site-packages (from fiona>=1.8->geopandas) (0.7.2)\r\n",
      "Requirement already satisfied: munch in /opt/conda/lib/python3.7/site-packages (from fiona>=1.8->geopandas) (2.5.0)\r\n",
      "Requirement already satisfied: python-dateutil>=2.7.3 in /opt/conda/lib/python3.7/site-packages (from pandas>=0.25.0->geopandas) (2.8.2)\r\n",
      "Requirement already satisfied: pytz>=2017.3 in /opt/conda/lib/python3.7/site-packages (from pandas>=0.25.0->geopandas) (2022.1)\r\n",
      "Requirement already satisfied: numpy>=1.17.3 in /opt/conda/lib/python3.7/site-packages (from pandas>=0.25.0->geopandas) (1.21.6)\r\n",
      "Requirement already satisfied: importlib-metadata in /opt/conda/lib/python3.7/site-packages (from click>=4.0->fiona>=1.8->geopandas) (4.11.4)\r\n",
      "Requirement already satisfied: zipp>=0.5 in /opt/conda/lib/python3.7/site-packages (from importlib-metadata->click>=4.0->fiona>=1.8->geopandas) (3.8.0)\r\n",
      "Requirement already satisfied: typing-extensions>=3.6.4 in /opt/conda/lib/python3.7/site-packages (from importlib-metadata->click>=4.0->fiona>=1.8->geopandas) (4.1.1)\r\n",
      "\u001b[33mWARNING: Running pip as the 'root' user can result in broken permissions and conflicting behaviour with the system package manager. It is recommended to use a virtual environment instead: https://pip.pypa.io/warnings/venv\u001b[0m\u001b[33m\r\n",
      "\u001b[0m"
     ]
    }
   ],
   "source": [
    "!pip install geopandas"
   ]
  },
  {
   "cell_type": "code",
   "execution_count": 21,
   "id": "c731b5bf",
   "metadata": {
    "execution": {
     "iopub.execute_input": "2022-07-05T17:11:18.990299Z",
     "iopub.status.busy": "2022-07-05T17:11:18.989532Z",
     "iopub.status.idle": "2022-07-05T17:11:19.711342Z",
     "shell.execute_reply": "2022-07-05T17:11:19.709909Z"
    },
    "papermill": {
     "duration": 0.76203,
     "end_time": "2022-07-05T17:11:19.714153",
     "exception": false,
     "start_time": "2022-07-05T17:11:18.952123",
     "status": "completed"
    },
    "tags": []
   },
   "outputs": [
    {
     "name": "stderr",
     "output_type": "stream",
     "text": [
      "/opt/conda/lib/python3.7/site-packages/geopandas/_compat.py:115: UserWarning: The Shapely GEOS version (3.9.1-CAPI-1.14.2) is incompatible with the GEOS version PyGEOS was compiled with (3.10.1-CAPI-1.16.0). Conversions between both will be slow.\n",
      "  shapely_geos_version, geos_capi_version_string\n"
     ]
    },
    {
     "data": {
      "text/html": [
       "<div>\n",
       "<style scoped>\n",
       "    .dataframe tbody tr th:only-of-type {\n",
       "        vertical-align: middle;\n",
       "    }\n",
       "\n",
       "    .dataframe tbody tr th {\n",
       "        vertical-align: top;\n",
       "    }\n",
       "\n",
       "    .dataframe thead th {\n",
       "        text-align: right;\n",
       "    }\n",
       "</style>\n",
       "<table border=\"1\" class=\"dataframe\">\n",
       "  <thead>\n",
       "    <tr style=\"text-align: right;\">\n",
       "      <th></th>\n",
       "      <th>state</th>\n",
       "      <th>city</th>\n",
       "      <th>state_ab</th>\n",
       "      <th>place</th>\n",
       "      <th>lat</th>\n",
       "      <th>lng</th>\n",
       "      <th>geometry</th>\n",
       "    </tr>\n",
       "    <tr>\n",
       "      <th>UID</th>\n",
       "      <th></th>\n",
       "      <th></th>\n",
       "      <th></th>\n",
       "      <th></th>\n",
       "      <th></th>\n",
       "      <th></th>\n",
       "      <th></th>\n",
       "    </tr>\n",
       "  </thead>\n",
       "  <tbody>\n",
       "    <tr>\n",
       "      <th>249744</th>\n",
       "      <td>Louisiana</td>\n",
       "      <td>Fort Polk</td>\n",
       "      <td>LA</td>\n",
       "      <td>Fort Polk North</td>\n",
       "      <td>31.099608</td>\n",
       "      <td>-93.202088</td>\n",
       "      <td>POINT (-93.20209 31.09961)</td>\n",
       "    </tr>\n",
       "    <tr>\n",
       "      <th>290029</th>\n",
       "      <td>Virginia</td>\n",
       "      <td>Alexandria</td>\n",
       "      <td>VA</td>\n",
       "      <td>Bailey's Crossroads</td>\n",
       "      <td>38.828707</td>\n",
       "      <td>-77.121251</td>\n",
       "      <td>POINT (-77.12125 38.82871)</td>\n",
       "    </tr>\n",
       "    <tr>\n",
       "      <th>248394</th>\n",
       "      <td>Kentucky</td>\n",
       "      <td>Fort Knox</td>\n",
       "      <td>KY</td>\n",
       "      <td>Fort Knox</td>\n",
       "      <td>37.901474</td>\n",
       "      <td>-85.986474</td>\n",
       "      <td>POINT (-85.98647 37.90147)</td>\n",
       "    </tr>\n",
       "    <tr>\n",
       "      <th>247937</th>\n",
       "      <td>Kentucky</td>\n",
       "      <td>Fort Knox</td>\n",
       "      <td>KY</td>\n",
       "      <td>Fort Knox</td>\n",
       "      <td>37.879246</td>\n",
       "      <td>-85.961748</td>\n",
       "      <td>POINT (-85.96175 37.87925)</td>\n",
       "    </tr>\n",
       "    <tr>\n",
       "      <th>247937</th>\n",
       "      <td>Kentucky</td>\n",
       "      <td>Fort Knox</td>\n",
       "      <td>KY</td>\n",
       "      <td>Fort Knox</td>\n",
       "      <td>37.879246</td>\n",
       "      <td>-85.961748</td>\n",
       "      <td>POINT (-85.96175 37.87925)</td>\n",
       "    </tr>\n",
       "    <tr>\n",
       "      <th>...</th>\n",
       "      <td>...</td>\n",
       "      <td>...</td>\n",
       "      <td>...</td>\n",
       "      <td>...</td>\n",
       "      <td>...</td>\n",
       "      <td>...</td>\n",
       "      <td>...</td>\n",
       "    </tr>\n",
       "    <tr>\n",
       "      <th>226874</th>\n",
       "      <td>California</td>\n",
       "      <td>Cerritos</td>\n",
       "      <td>CA</td>\n",
       "      <td>Hawaiian Gardens City</td>\n",
       "      <td>33.843030</td>\n",
       "      <td>-118.088264</td>\n",
       "      <td>POINT (-118.08826 33.84303)</td>\n",
       "    </tr>\n",
       "    <tr>\n",
       "      <th>229979</th>\n",
       "      <td>California</td>\n",
       "      <td>San Diego</td>\n",
       "      <td>CA</td>\n",
       "      <td>Fairbanks Ranch</td>\n",
       "      <td>33.008998</td>\n",
       "      <td>-117.104427</td>\n",
       "      <td>POINT (-117.10443 33.00900)</td>\n",
       "    </tr>\n",
       "    <tr>\n",
       "      <th>254509</th>\n",
       "      <td>Michigan</td>\n",
       "      <td>Davisburg</td>\n",
       "      <td>MI</td>\n",
       "      <td>Village Of Clarkston City</td>\n",
       "      <td>42.728586</td>\n",
       "      <td>-83.539028</td>\n",
       "      <td>POINT (-83.53903 42.72859)</td>\n",
       "    </tr>\n",
       "    <tr>\n",
       "      <th>283759</th>\n",
       "      <td>Texas</td>\n",
       "      <td>Mckinney</td>\n",
       "      <td>TX</td>\n",
       "      <td>Mckinney City</td>\n",
       "      <td>33.177874</td>\n",
       "      <td>-96.675389</td>\n",
       "      <td>POINT (-96.67539 33.17787)</td>\n",
       "    </tr>\n",
       "    <tr>\n",
       "      <th>227226</th>\n",
       "      <td>California</td>\n",
       "      <td>Agoura</td>\n",
       "      <td>CA</td>\n",
       "      <td>Agoura Hills City</td>\n",
       "      <td>34.121109</td>\n",
       "      <td>-118.739173</td>\n",
       "      <td>POINT (-118.73917 34.12111)</td>\n",
       "    </tr>\n",
       "  </tbody>\n",
       "</table>\n",
       "<p>2500 rows × 7 columns</p>\n",
       "</div>"
      ],
      "text/plain": [
       "             state        city state_ab                      place        lat  \\\n",
       "UID                                                                             \n",
       "249744   Louisiana   Fort Polk       LA            Fort Polk North  31.099608   \n",
       "290029    Virginia  Alexandria       VA        Bailey's Crossroads  38.828707   \n",
       "248394    Kentucky   Fort Knox       KY                  Fort Knox  37.901474   \n",
       "247937    Kentucky   Fort Knox       KY                  Fort Knox  37.879246   \n",
       "247937    Kentucky   Fort Knox       KY                  Fort Knox  37.879246   \n",
       "...            ...         ...      ...                        ...        ...   \n",
       "226874  California    Cerritos       CA      Hawaiian Gardens City  33.843030   \n",
       "229979  California   San Diego       CA            Fairbanks Ranch  33.008998   \n",
       "254509    Michigan   Davisburg       MI  Village Of Clarkston City  42.728586   \n",
       "283759       Texas    Mckinney       TX              Mckinney City  33.177874   \n",
       "227226  California      Agoura       CA          Agoura Hills City  34.121109   \n",
       "\n",
       "               lng                     geometry  \n",
       "UID                                              \n",
       "249744  -93.202088   POINT (-93.20209 31.09961)  \n",
       "290029  -77.121251   POINT (-77.12125 38.82871)  \n",
       "248394  -85.986474   POINT (-85.98647 37.90147)  \n",
       "247937  -85.961748   POINT (-85.96175 37.87925)  \n",
       "247937  -85.961748   POINT (-85.96175 37.87925)  \n",
       "...            ...                          ...  \n",
       "226874 -118.088264  POINT (-118.08826 33.84303)  \n",
       "229979 -117.104427  POINT (-117.10443 33.00900)  \n",
       "254509  -83.539028   POINT (-83.53903 42.72859)  \n",
       "283759  -96.675389   POINT (-96.67539 33.17787)  \n",
       "227226 -118.739173  POINT (-118.73917 34.12111)  \n",
       "\n",
       "[2500 rows x 7 columns]"
      ]
     },
     "execution_count": 21,
     "metadata": {},
     "output_type": "execute_result"
    }
   ],
   "source": [
    "import geopandas as gpd\n",
    "gdf = gpd.GeoDataFrame(top_2500_loc, geometry=gpd.points_from_xy(x=top_2500_loc.lng, y=top_2500_loc.lat))\n",
    "gdf"
   ]
  },
  {
   "cell_type": "markdown",
   "id": "5472e2b9",
   "metadata": {
    "papermill": {
     "duration": 0.025139,
     "end_time": "2022-07-05T17:11:19.765242",
     "exception": false,
     "start_time": "2022-07-05T17:11:19.740103",
     "status": "completed"
    },
    "tags": []
   },
   "source": [
    "###### Use the following bad debt equation:"
   ]
  },
  {
   "cell_type": "markdown",
   "id": "5aef73f2",
   "metadata": {
    "papermill": {
     "duration": 0.02583,
     "end_time": "2022-07-05T17:11:19.817814",
     "exception": false,
     "start_time": "2022-07-05T17:11:19.791984",
     "status": "completed"
    },
    "tags": []
   },
   "source": [
    "Bad Debt = P (Second Mortgage ∩ Home Equity Loan)\n",
    "\n",
    "Bad Debt = second_mortgage + home_equity - home_equity_second_mortgage"
   ]
  },
  {
   "cell_type": "code",
   "execution_count": 22,
   "id": "51042c85",
   "metadata": {
    "execution": {
     "iopub.execute_input": "2022-07-05T17:11:19.870280Z",
     "iopub.status.busy": "2022-07-05T17:11:19.868716Z",
     "iopub.status.idle": "2022-07-05T17:11:19.879100Z",
     "shell.execute_reply": "2022-07-05T17:11:19.877858Z"
    },
    "papermill": {
     "duration": 0.039347,
     "end_time": "2022-07-05T17:11:19.881788",
     "exception": false,
     "start_time": "2022-07-05T17:11:19.842441",
     "status": "completed"
    },
    "tags": []
   },
   "outputs": [],
   "source": [
    "import numpy as np\n",
    "bad_debt_train= (df_train['second_mortgage']+ df_train['home_equity'])-df_train['home_equity_second_mortgage']\n",
    "bad_debt_test= (df_test['second_mortgage']+ df_test['home_equity'])-df_test['home_equity_second_mortgage']"
   ]
  },
  {
   "cell_type": "code",
   "execution_count": 23,
   "id": "8d31c012",
   "metadata": {
    "execution": {
     "iopub.execute_input": "2022-07-05T17:11:19.934933Z",
     "iopub.status.busy": "2022-07-05T17:11:19.934074Z",
     "iopub.status.idle": "2022-07-05T17:11:19.941356Z",
     "shell.execute_reply": "2022-07-05T17:11:19.940074Z"
    },
    "papermill": {
     "duration": 0.036667,
     "end_time": "2022-07-05T17:11:19.944086",
     "exception": false,
     "start_time": "2022-07-05T17:11:19.907419",
     "status": "completed"
    },
    "tags": []
   },
   "outputs": [],
   "source": [
    "df_train['bad_debt']=bad_debt_train\n",
    "df_test['bad_debt']=bad_debt_test"
   ]
  },
  {
   "cell_type": "code",
   "execution_count": 24,
   "id": "3002f28d",
   "metadata": {
    "execution": {
     "iopub.execute_input": "2022-07-05T17:11:19.998369Z",
     "iopub.status.busy": "2022-07-05T17:11:19.997554Z",
     "iopub.status.idle": "2022-07-05T17:11:20.006360Z",
     "shell.execute_reply": "2022-07-05T17:11:20.004925Z"
    },
    "papermill": {
     "duration": 0.039094,
     "end_time": "2022-07-05T17:11:20.009334",
     "exception": false,
     "start_time": "2022-07-05T17:11:19.970240",
     "status": "completed"
    },
    "tags": []
   },
   "outputs": [],
   "source": [
    "df_train['good_debt']=df_train['debt']-df_train['bad_debt']\n",
    "df_test['good_debt']=df_test['debt']-df_test['bad_debt']"
   ]
  },
  {
   "cell_type": "markdown",
   "id": "269c01d9",
   "metadata": {
    "papermill": {
     "duration": 0.026553,
     "end_time": "2022-07-05T17:11:20.063916",
     "exception": false,
     "start_time": "2022-07-05T17:11:20.037363",
     "status": "completed"
    },
    "tags": []
   },
   "source": [
    "###### Create pie charts  to show overall debt and bad debt"
   ]
  },
  {
   "cell_type": "code",
   "execution_count": 25,
   "id": "f42910e7",
   "metadata": {
    "execution": {
     "iopub.execute_input": "2022-07-05T17:11:20.120639Z",
     "iopub.status.busy": "2022-07-05T17:11:20.119964Z",
     "iopub.status.idle": "2022-07-05T17:11:20.308884Z",
     "shell.execute_reply": "2022-07-05T17:11:20.307456Z"
    },
    "papermill": {
     "duration": 0.221294,
     "end_time": "2022-07-05T17:11:20.312528",
     "exception": false,
     "start_time": "2022-07-05T17:11:20.091234",
     "status": "completed"
    },
    "tags": []
   },
   "outputs": [
    {
     "data": {
      "image/png": "[encoded data removed]",
      "text/plain": [
       "<Figure size 432x288 with 1 Axes>"
      ]
     },
     "metadata": {},
     "output_type": "display_data"
    }
   ],
   "source": [
    "import matplotlib.pyplot as plt\n",
    "\n",
    "labels = 'Debt', 'Bad_Debt'\n",
    "sizes = [df_train['debt'].mean()*100, df_train['bad_debt'].mean()*100]\n",
    "colors = [ 'lightskyblue','lightcoral']\n",
    "explode = (0.1, 0)  # explode 1st slice\n",
    "\n",
    "# Plot\n",
    "plt.pie(sizes,explode=explode,labels=labels, colors=colors,\n",
    "autopct='%1.1f%%', shadow=True, startangle=140)\n",
    "\n",
    "plt.axis('equal')\n",
    "plt.show()"
   ]
  },
  {
   "cell_type": "markdown",
   "id": "abae6d6d",
   "metadata": {
    "papermill": {
     "duration": 0.033729,
     "end_time": "2022-07-05T17:11:20.395244",
     "exception": false,
     "start_time": "2022-07-05T17:11:20.361515",
     "status": "completed"
    },
    "tags": []
   },
   "source": [
    "###### Create Box and whisker plot and analyze the distribution for 2nd mortgage, home equity, good debt, and bad debt for different cities"
   ]
  },
  {
   "cell_type": "code",
   "execution_count": 26,
   "id": "bdd08a94",
   "metadata": {
    "execution": {
     "iopub.execute_input": "2022-07-05T17:11:20.446943Z",
     "iopub.status.busy": "2022-07-05T17:11:20.446535Z",
     "iopub.status.idle": "2022-07-05T17:11:21.127100Z",
     "shell.execute_reply": "2022-07-05T17:11:21.125581Z"
    },
    "papermill": {
     "duration": 0.709141,
     "end_time": "2022-07-05T17:11:21.129404",
     "exception": false,
     "start_time": "2022-07-05T17:11:20.420263",
     "status": "completed"
    },
    "tags": []
   },
   "outputs": [
    {
     "data": {
      "image/png": "[encoded data removed]",
      "text/plain": [
       "<Figure size 432x288 with 1 Axes>"
      ]
     },
     "metadata": {
      "needs_background": "light"
     },
     "output_type": "display_data"
    },
    {
     "data": {
      "image/png": "[encoded data removed]",
      "text/plain": [
       "<Figure size 432x288 with 1 Axes>"
      ]
     },
     "metadata": {
      "needs_background": "light"
     },
     "output_type": "display_data"
    },
    {
     "data": {
      "image/png": "[encoded data removed]",
      "text/plain": [
       "<Figure size 432x288 with 1 Axes>"
      ]
     },
     "metadata": {
      "needs_background": "light"
     },
     "output_type": "display_data"
    }
   ],
   "source": [
    "import matplotlib.pyplot as plt\n",
    "all_cities=df_train[['home_equity','second_mortgage','bad_debt', 'good_debt']]\n",
    "all_cities.plot.box(grid=True)\n",
    "plt.title('All Cities')\n",
    "plt.show()\n",
    "hamilton=df_train[df_train['city']=='Hamilton']\n",
    "hamilton=hamilton[['home_equity','second_mortgage','bad_debt', 'good_debt']]\n",
    "hamilton.plot.box(grid=True)\n",
    "plt.title('Hamilton')\n",
    "plt.show()\n",
    "danville=df_train[df_train['city']=='Danville']\n",
    "danville=danville[['home_equity','second_mortgage','bad_debt', 'good_debt']]\n",
    "danville.plot.box(grid=True)\n",
    "plt.title('Danville')\n",
    "plt.show()"
   ]
  },
  {
   "cell_type": "markdown",
   "id": "671595f5",
   "metadata": {
    "papermill": {
     "duration": 0.026978,
     "end_time": "2022-07-05T17:11:21.183012",
     "exception": false,
     "start_time": "2022-07-05T17:11:21.156034",
     "status": "completed"
    },
    "tags": []
   },
   "source": [
    "###### Create a collated income distribution chart for family income, house hold income, and remaining income"
   ]
  },
  {
   "cell_type": "code",
   "execution_count": 27,
   "id": "83ae3efd",
   "metadata": {
    "execution": {
     "iopub.execute_input": "2022-07-05T17:11:21.241487Z",
     "iopub.status.busy": "2022-07-05T17:11:21.240997Z",
     "iopub.status.idle": "2022-07-05T17:11:22.673871Z",
     "shell.execute_reply": "2022-07-05T17:11:22.672759Z"
    },
    "papermill": {
     "duration": 1.465318,
     "end_time": "2022-07-05T17:11:22.676468",
     "exception": false,
     "start_time": "2022-07-05T17:11:21.211150",
     "status": "completed"
    },
    "tags": []
   },
   "outputs": [
    {
     "name": "stderr",
     "output_type": "stream",
     "text": [
      "/opt/conda/lib/python3.7/site-packages/seaborn/distributions.py:2619: FutureWarning: `distplot` is a deprecated function and will be removed in a future version. Please adapt your code to use either `displot` (a figure-level function with similar flexibility) or `histplot` (an axes-level function for histograms).\n",
      "  warnings.warn(msg, FutureWarning)\n",
      "/opt/conda/lib/python3.7/site-packages/seaborn/distributions.py:2619: FutureWarning: `distplot` is a deprecated function and will be removed in a future version. Please adapt your code to use either `displot` (a figure-level function with similar flexibility) or `histplot` (an axes-level function for histograms).\n",
      "  warnings.warn(msg, FutureWarning)\n",
      "/opt/conda/lib/python3.7/site-packages/seaborn/distributions.py:2619: FutureWarning: `distplot` is a deprecated function and will be removed in a future version. Please adapt your code to use either `displot` (a figure-level function with similar flexibility) or `histplot` (an axes-level function for histograms).\n",
      "  warnings.warn(msg, FutureWarning)\n"
     ]
    },
    {
     "data": {
      "image/png": "[encoded data removed]",
      "text/plain": [
       "<Figure size 1080x720 with 3 Axes>"
      ]
     },
     "metadata": {
      "needs_background": "light"
     },
     "output_type": "display_data"
    }
   ],
   "source": [
    "import seaborn as sns\n",
    "plt.figure(figsize=(15,10))\n",
    "\n",
    "plt.subplot(2,3,1)\n",
    "sns.distplot(df_train['hi_mean'])\n",
    "plt.title('Household Income')\n",
    "plt.subplot(2,3,2)\n",
    "sns.distplot(df_train['family_mean'])\n",
    "plt.title('Family Income')\n",
    "plt.subplot(2,3,3)\n",
    "sns.distplot(df_train['family_mean']-df_train['hi_mean'])\n",
    "plt.title('Remaining income distribution chart')\n",
    "plt.show()"
   ]
  },
  {
   "cell_type": "markdown",
   "id": "782bb7b3",
   "metadata": {
    "papermill": {
     "duration": 0.028659,
     "end_time": "2022-07-05T17:11:22.732587",
     "exception": false,
     "start_time": "2022-07-05T17:11:22.703928",
     "status": "completed"
    },
    "tags": []
   },
   "source": [
    "#### Perform EDA and come out with insights into population density and age. You may have to derive new fields (make sure to weight averages for accurate measurements): "
   ]
  },
  {
   "cell_type": "markdown",
   "id": "ce7736d7",
   "metadata": {
    "papermill": {
     "duration": 0.026658,
     "end_time": "2022-07-05T17:11:22.786496",
     "exception": false,
     "start_time": "2022-07-05T17:11:22.759838",
     "status": "completed"
    },
    "tags": []
   },
   "source": [
    "###### Use pop and ALand variables to create a new field called population density"
   ]
  },
  {
   "cell_type": "code",
   "execution_count": 28,
   "id": "d70b2d74",
   "metadata": {
    "execution": {
     "iopub.execute_input": "2022-07-05T17:11:22.841618Z",
     "iopub.status.busy": "2022-07-05T17:11:22.841279Z",
     "iopub.status.idle": "2022-07-05T17:11:22.850627Z",
     "shell.execute_reply": "2022-07-05T17:11:22.849020Z"
    },
    "papermill": {
     "duration": 0.039731,
     "end_time": "2022-07-05T17:11:22.853222",
     "exception": false,
     "start_time": "2022-07-05T17:11:22.813491",
     "status": "completed"
    },
    "tags": []
   },
   "outputs": [],
   "source": [
    "Pop_Density=df_train['pop']/df_train['ALand']\n",
    "Pop_Density_test=df_test['pop']/df_test['ALand']\n",
    "df_train['pop_density']=Pop_Density\n",
    "df_test['pop_density']=Pop_Density_test"
   ]
  },
  {
   "cell_type": "markdown",
   "id": "6eca8952",
   "metadata": {
    "papermill": {
     "duration": 0.027541,
     "end_time": "2022-07-05T17:11:22.908422",
     "exception": false,
     "start_time": "2022-07-05T17:11:22.880881",
     "status": "completed"
    },
    "tags": []
   },
   "source": [
    "#### Visualize the findings using appropriate chart type"
   ]
  },
  {
   "cell_type": "code",
   "execution_count": 29,
   "id": "ef2edd0f",
   "metadata": {
    "execution": {
     "iopub.execute_input": "2022-07-05T17:11:22.966116Z",
     "iopub.status.busy": "2022-07-05T17:11:22.964579Z",
     "iopub.status.idle": "2022-07-05T17:11:23.275874Z",
     "shell.execute_reply": "2022-07-05T17:11:23.274804Z"
    },
    "papermill": {
     "duration": 0.34318,
     "end_time": "2022-07-05T17:11:23.279140",
     "exception": false,
     "start_time": "2022-07-05T17:11:22.935960",
     "status": "completed"
    },
    "tags": []
   },
   "outputs": [
    {
     "data": {
      "image/png": "[encoded data removed]",
      "text/plain": [
       "<Figure size 432x288 with 1 Axes>"
      ]
     },
     "metadata": {
      "needs_background": "light"
     },
     "output_type": "display_data"
    }
   ],
   "source": [
    "plt.hist(df_train['pop_density'], bins=50)\n",
    "plt.title('Popultaion Density')\n",
    "plt.show()"
   ]
  },
  {
   "cell_type": "markdown",
   "id": "9b315e83",
   "metadata": {
    "papermill": {
     "duration": 0.028594,
     "end_time": "2022-07-05T17:11:23.336915",
     "exception": false,
     "start_time": "2022-07-05T17:11:23.308321",
     "status": "completed"
    },
    "tags": []
   },
   "source": [
    "###### Use male_age_median, female_age_median, male_pop, and female_pop to create a new field called median age"
   ]
  },
  {
   "cell_type": "code",
   "execution_count": 30,
   "id": "acfee81e",
   "metadata": {
    "execution": {
     "iopub.execute_input": "2022-07-05T17:11:23.397396Z",
     "iopub.status.busy": "2022-07-05T17:11:23.396942Z",
     "iopub.status.idle": "2022-07-05T17:11:23.405275Z",
     "shell.execute_reply": "2022-07-05T17:11:23.404327Z"
    },
    "papermill": {
     "duration": 0.041672,
     "end_time": "2022-07-05T17:11:23.408185",
     "exception": false,
     "start_time": "2022-07-05T17:11:23.366513",
     "status": "completed"
    },
    "tags": []
   },
   "outputs": [],
   "source": [
    "df_train['age_median']=(df_train['male_age_median']+df_train['female_age_median'])/2\n",
    "df_test['age_median']=(df_test['male_age_median']+df_test['female_age_median'])/2"
   ]
  },
  {
   "cell_type": "code",
   "execution_count": 31,
   "id": "0def8689",
   "metadata": {
    "execution": {
     "iopub.execute_input": "2022-07-05T17:11:23.466699Z",
     "iopub.status.busy": "2022-07-05T17:11:23.465644Z",
     "iopub.status.idle": "2022-07-05T17:11:23.503263Z",
     "shell.execute_reply": "2022-07-05T17:11:23.502276Z"
    },
    "papermill": {
     "duration": 0.068626,
     "end_time": "2022-07-05T17:11:23.505436",
     "exception": false,
     "start_time": "2022-07-05T17:11:23.436810",
     "status": "completed"
    },
    "tags": []
   },
   "outputs": [
    {
     "data": {
      "text/html": [
       "<div>\n",
       "<style scoped>\n",
       "    .dataframe tbody tr th:only-of-type {\n",
       "        vertical-align: middle;\n",
       "    }\n",
       "\n",
       "    .dataframe tbody tr th {\n",
       "        vertical-align: top;\n",
       "    }\n",
       "\n",
       "    .dataframe thead th {\n",
       "        text-align: right;\n",
       "    }\n",
       "</style>\n",
       "<table border=\"1\" class=\"dataframe\">\n",
       "  <thead>\n",
       "    <tr style=\"text-align: right;\">\n",
       "      <th></th>\n",
       "      <th>male_age_median</th>\n",
       "      <th>female_age_median</th>\n",
       "      <th>male_pop</th>\n",
       "      <th>female_pop</th>\n",
       "      <th>age_median</th>\n",
       "    </tr>\n",
       "    <tr>\n",
       "      <th>UID</th>\n",
       "      <th></th>\n",
       "      <th></th>\n",
       "      <th></th>\n",
       "      <th></th>\n",
       "      <th></th>\n",
       "    </tr>\n",
       "  </thead>\n",
       "  <tbody>\n",
       "    <tr>\n",
       "      <th>267822</th>\n",
       "      <td>44.00000</td>\n",
       "      <td>45.33333</td>\n",
       "      <td>2612</td>\n",
       "      <td>2618</td>\n",
       "      <td>44.666665</td>\n",
       "    </tr>\n",
       "    <tr>\n",
       "      <th>246444</th>\n",
       "      <td>32.00000</td>\n",
       "      <td>37.58333</td>\n",
       "      <td>1349</td>\n",
       "      <td>1284</td>\n",
       "      <td>34.791665</td>\n",
       "    </tr>\n",
       "    <tr>\n",
       "      <th>245683</th>\n",
       "      <td>40.83333</td>\n",
       "      <td>42.83333</td>\n",
       "      <td>3643</td>\n",
       "      <td>3238</td>\n",
       "      <td>41.833330</td>\n",
       "    </tr>\n",
       "    <tr>\n",
       "      <th>279653</th>\n",
       "      <td>48.91667</td>\n",
       "      <td>50.58333</td>\n",
       "      <td>1141</td>\n",
       "      <td>1559</td>\n",
       "      <td>49.750000</td>\n",
       "    </tr>\n",
       "    <tr>\n",
       "      <th>247218</th>\n",
       "      <td>22.41667</td>\n",
       "      <td>21.58333</td>\n",
       "      <td>2586</td>\n",
       "      <td>3051</td>\n",
       "      <td>22.000000</td>\n",
       "    </tr>\n",
       "  </tbody>\n",
       "</table>\n",
       "</div>"
      ],
      "text/plain": [
       "        male_age_median  female_age_median  male_pop  female_pop  age_median\n",
       "UID                                                                         \n",
       "267822         44.00000           45.33333      2612        2618   44.666665\n",
       "246444         32.00000           37.58333      1349        1284   34.791665\n",
       "245683         40.83333           42.83333      3643        3238   41.833330\n",
       "279653         48.91667           50.58333      1141        1559   49.750000\n",
       "247218         22.41667           21.58333      2586        3051   22.000000"
      ]
     },
     "execution_count": 31,
     "metadata": {},
     "output_type": "execute_result"
    }
   ],
   "source": [
    "df_train[['male_age_median','female_age_median','male_pop','female_pop','age_median']].head()"
   ]
  },
  {
   "cell_type": "markdown",
   "id": "11efa52b",
   "metadata": {
    "papermill": {
     "duration": 0.026786,
     "end_time": "2022-07-05T17:11:23.559615",
     "exception": false,
     "start_time": "2022-07-05T17:11:23.532829",
     "status": "completed"
    },
    "tags": []
   },
   "source": [
    "#### Visualize the findings using appropriate chart type"
   ]
  },
  {
   "cell_type": "code",
   "execution_count": 32,
   "id": "d18feef1",
   "metadata": {
    "execution": {
     "iopub.execute_input": "2022-07-05T17:11:23.617201Z",
     "iopub.status.busy": "2022-07-05T17:11:23.615686Z",
     "iopub.status.idle": "2022-07-05T17:11:24.486447Z",
     "shell.execute_reply": "2022-07-05T17:11:24.485314Z"
    },
    "papermill": {
     "duration": 0.901908,
     "end_time": "2022-07-05T17:11:24.488859",
     "exception": false,
     "start_time": "2022-07-05T17:11:23.586951",
     "status": "completed"
    },
    "tags": []
   },
   "outputs": [
    {
     "name": "stderr",
     "output_type": "stream",
     "text": [
      "/opt/conda/lib/python3.7/site-packages/seaborn/distributions.py:2619: FutureWarning: `distplot` is a deprecated function and will be removed in a future version. Please adapt your code to use either `displot` (a figure-level function with similar flexibility) or `histplot` (an axes-level function for histograms).\n",
      "  warnings.warn(msg, FutureWarning)\n",
      "/opt/conda/lib/python3.7/site-packages/seaborn/_decorators.py:43: FutureWarning: Pass the following variable as a keyword arg: x. From version 0.12, the only valid positional argument will be `data`, and passing other arguments without an explicit keyword will result in an error or misinterpretation.\n",
      "  FutureWarning\n"
     ]
    },
    {
     "data": {
      "image/png": "[encoded data removed]",
      "text/plain": [
       "<Figure size 1080x720 with 2 Axes>"
      ]
     },
     "metadata": {
      "needs_background": "light"
     },
     "output_type": "display_data"
    }
   ],
   "source": [
    "plt.figure(figsize=(15,10))\n",
    "plt.subplot(2,2,1)\n",
    "sns.distplot(df_train['age_median'])\n",
    "plt.title('Median Age')\n",
    "plt.subplot(2,2,2)\n",
    "sns.boxplot(df_train['age_median'])\n",
    "plt.title('Population Density')\n",
    "plt.show() \n"
   ]
  },
  {
   "cell_type": "markdown",
   "id": "e470f09e",
   "metadata": {
    "papermill": {
     "duration": 0.02763,
     "end_time": "2022-07-05T17:11:24.545458",
     "exception": false,
     "start_time": "2022-07-05T17:11:24.517828",
     "status": "completed"
    },
    "tags": []
   },
   "source": [
    "#### Create bins for population into a new variable by selecting appropriate class interval so that the number of categories don’t exceed 5 for the ease of analysis."
   ]
  },
  {
   "cell_type": "code",
   "execution_count": 33,
   "id": "095e9d04",
   "metadata": {
    "execution": {
     "iopub.execute_input": "2022-07-05T17:11:24.603953Z",
     "iopub.status.busy": "2022-07-05T17:11:24.602946Z",
     "iopub.status.idle": "2022-07-05T17:11:24.620566Z",
     "shell.execute_reply": "2022-07-05T17:11:24.619554Z"
    },
    "papermill": {
     "duration": 0.049417,
     "end_time": "2022-07-05T17:11:24.622755",
     "exception": false,
     "start_time": "2022-07-05T17:11:24.573338",
     "status": "completed"
    },
    "tags": []
   },
   "outputs": [
    {
     "data": {
      "text/plain": [
       "very low     27058\n",
       "low            246\n",
       "medium           9\n",
       "high             7\n",
       "very high        1\n",
       "Name: pop_bins, dtype: int64"
      ]
     },
     "execution_count": 33,
     "metadata": {},
     "output_type": "execute_result"
    }
   ],
   "source": [
    "df_train['pop_bins']=pd.cut(df_train['pop'],bins=5,labels=['very low','low','medium','high','very high'])\n",
    "df_train['pop_bins'].value_counts()"
   ]
  },
  {
   "cell_type": "markdown",
   "id": "0f1bf177",
   "metadata": {
    "papermill": {
     "duration": 0.027849,
     "end_time": "2022-07-05T17:11:24.679044",
     "exception": false,
     "start_time": "2022-07-05T17:11:24.651195",
     "status": "completed"
    },
    "tags": []
   },
   "source": [
    "###### Analyze the married, separated, and divorced population for these population brackets"
   ]
  },
  {
   "cell_type": "code",
   "execution_count": 34,
   "id": "6fbfd0dd",
   "metadata": {
    "execution": {
     "iopub.execute_input": "2022-07-05T17:11:24.737894Z",
     "iopub.status.busy": "2022-07-05T17:11:24.737061Z",
     "iopub.status.idle": "2022-07-05T17:11:24.754857Z",
     "shell.execute_reply": "2022-07-05T17:11:24.753721Z"
    },
    "papermill": {
     "duration": 0.049989,
     "end_time": "2022-07-05T17:11:24.757084",
     "exception": false,
     "start_time": "2022-07-05T17:11:24.707095",
     "status": "completed"
    },
    "tags": []
   },
   "outputs": [
    {
     "data": {
      "text/html": [
       "<div>\n",
       "<style scoped>\n",
       "    .dataframe tbody tr th:only-of-type {\n",
       "        vertical-align: middle;\n",
       "    }\n",
       "\n",
       "    .dataframe tbody tr th {\n",
       "        vertical-align: top;\n",
       "    }\n",
       "\n",
       "    .dataframe thead th {\n",
       "        text-align: right;\n",
       "    }\n",
       "</style>\n",
       "<table border=\"1\" class=\"dataframe\">\n",
       "  <thead>\n",
       "    <tr style=\"text-align: right;\">\n",
       "      <th></th>\n",
       "      <th>married</th>\n",
       "      <th>separated</th>\n",
       "      <th>divorced</th>\n",
       "    </tr>\n",
       "    <tr>\n",
       "      <th>pop_bins</th>\n",
       "      <th></th>\n",
       "      <th></th>\n",
       "      <th></th>\n",
       "    </tr>\n",
       "  </thead>\n",
       "  <tbody>\n",
       "    <tr>\n",
       "      <th>very low</th>\n",
       "      <td>27058</td>\n",
       "      <td>27058</td>\n",
       "      <td>27058</td>\n",
       "    </tr>\n",
       "    <tr>\n",
       "      <th>low</th>\n",
       "      <td>246</td>\n",
       "      <td>246</td>\n",
       "      <td>246</td>\n",
       "    </tr>\n",
       "    <tr>\n",
       "      <th>medium</th>\n",
       "      <td>9</td>\n",
       "      <td>9</td>\n",
       "      <td>9</td>\n",
       "    </tr>\n",
       "    <tr>\n",
       "      <th>high</th>\n",
       "      <td>7</td>\n",
       "      <td>7</td>\n",
       "      <td>7</td>\n",
       "    </tr>\n",
       "    <tr>\n",
       "      <th>very high</th>\n",
       "      <td>1</td>\n",
       "      <td>1</td>\n",
       "      <td>1</td>\n",
       "    </tr>\n",
       "  </tbody>\n",
       "</table>\n",
       "</div>"
      ],
      "text/plain": [
       "           married  separated  divorced\n",
       "pop_bins                               \n",
       "very low     27058      27058     27058\n",
       "low            246        246       246\n",
       "medium           9          9         9\n",
       "high             7          7         7\n",
       "very high        1          1         1"
      ]
     },
     "execution_count": 34,
     "metadata": {},
     "output_type": "execute_result"
    }
   ],
   "source": [
    "df_train.groupby(by='pop_bins')[['married','separated','divorced']].count()"
   ]
  },
  {
   "cell_type": "code",
   "execution_count": 35,
   "id": "ceb16315",
   "metadata": {
    "execution": {
     "iopub.execute_input": "2022-07-05T17:11:24.817648Z",
     "iopub.status.busy": "2022-07-05T17:11:24.816887Z",
     "iopub.status.idle": "2022-07-05T17:11:24.849080Z",
     "shell.execute_reply": "2022-07-05T17:11:24.847864Z"
    },
    "papermill": {
     "duration": 0.066491,
     "end_time": "2022-07-05T17:11:24.852972",
     "exception": false,
     "start_time": "2022-07-05T17:11:24.786481",
     "status": "completed"
    },
    "tags": []
   },
   "outputs": [
    {
     "data": {
      "text/html": [
       "<div>\n",
       "<style scoped>\n",
       "    .dataframe tbody tr th:only-of-type {\n",
       "        vertical-align: middle;\n",
       "    }\n",
       "\n",
       "    .dataframe tbody tr th {\n",
       "        vertical-align: top;\n",
       "    }\n",
       "\n",
       "    .dataframe thead tr th {\n",
       "        text-align: left;\n",
       "    }\n",
       "\n",
       "    .dataframe thead tr:last-of-type th {\n",
       "        text-align: right;\n",
       "    }\n",
       "</style>\n",
       "<table border=\"1\" class=\"dataframe\">\n",
       "  <thead>\n",
       "    <tr>\n",
       "      <th></th>\n",
       "      <th colspan=\"2\" halign=\"left\">married</th>\n",
       "      <th colspan=\"2\" halign=\"left\">separated</th>\n",
       "      <th colspan=\"2\" halign=\"left\">divorced</th>\n",
       "    </tr>\n",
       "    <tr>\n",
       "      <th></th>\n",
       "      <th>mean</th>\n",
       "      <th>median</th>\n",
       "      <th>mean</th>\n",
       "      <th>median</th>\n",
       "      <th>mean</th>\n",
       "      <th>median</th>\n",
       "    </tr>\n",
       "    <tr>\n",
       "      <th>pop_bins</th>\n",
       "      <th></th>\n",
       "      <th></th>\n",
       "      <th></th>\n",
       "      <th></th>\n",
       "      <th></th>\n",
       "      <th></th>\n",
       "    </tr>\n",
       "  </thead>\n",
       "  <tbody>\n",
       "    <tr>\n",
       "      <th>very low</th>\n",
       "      <td>0.507548</td>\n",
       "      <td>0.524680</td>\n",
       "      <td>0.019126</td>\n",
       "      <td>0.013650</td>\n",
       "      <td>0.100504</td>\n",
       "      <td>0.096020</td>\n",
       "    </tr>\n",
       "    <tr>\n",
       "      <th>low</th>\n",
       "      <td>0.584894</td>\n",
       "      <td>0.593135</td>\n",
       "      <td>0.015833</td>\n",
       "      <td>0.011195</td>\n",
       "      <td>0.075348</td>\n",
       "      <td>0.070045</td>\n",
       "    </tr>\n",
       "    <tr>\n",
       "      <th>medium</th>\n",
       "      <td>0.655737</td>\n",
       "      <td>0.618710</td>\n",
       "      <td>0.005003</td>\n",
       "      <td>0.004120</td>\n",
       "      <td>0.065927</td>\n",
       "      <td>0.064890</td>\n",
       "    </tr>\n",
       "    <tr>\n",
       "      <th>high</th>\n",
       "      <td>0.503359</td>\n",
       "      <td>0.335660</td>\n",
       "      <td>0.008141</td>\n",
       "      <td>0.002500</td>\n",
       "      <td>0.039030</td>\n",
       "      <td>0.010320</td>\n",
       "    </tr>\n",
       "    <tr>\n",
       "      <th>very high</th>\n",
       "      <td>0.734740</td>\n",
       "      <td>0.734740</td>\n",
       "      <td>0.004050</td>\n",
       "      <td>0.004050</td>\n",
       "      <td>0.030360</td>\n",
       "      <td>0.030360</td>\n",
       "    </tr>\n",
       "  </tbody>\n",
       "</table>\n",
       "</div>"
      ],
      "text/plain": [
       "            married           separated            divorced          \n",
       "               mean    median      mean    median      mean    median\n",
       "pop_bins                                                             \n",
       "very low   0.507548  0.524680  0.019126  0.013650  0.100504  0.096020\n",
       "low        0.584894  0.593135  0.015833  0.011195  0.075348  0.070045\n",
       "medium     0.655737  0.618710  0.005003  0.004120  0.065927  0.064890\n",
       "high       0.503359  0.335660  0.008141  0.002500  0.039030  0.010320\n",
       "very high  0.734740  0.734740  0.004050  0.004050  0.030360  0.030360"
      ]
     },
     "execution_count": 35,
     "metadata": {},
     "output_type": "execute_result"
    }
   ],
   "source": [
    "df_train.groupby(by='pop_bins')[['married','separated','divorced']].agg([\"mean\", \"median\"])"
   ]
  },
  {
   "cell_type": "markdown",
   "id": "ba53190f",
   "metadata": {
    "papermill": {
     "duration": 0.030914,
     "end_time": "2022-07-05T17:11:24.918723",
     "exception": false,
     "start_time": "2022-07-05T17:11:24.887809",
     "status": "completed"
    },
    "tags": []
   },
   "source": [
    "###### Visualize the findings using appropriate chart type"
   ]
  },
  {
   "cell_type": "code",
   "execution_count": 36,
   "id": "7d3cdb0d",
   "metadata": {
    "execution": {
     "iopub.execute_input": "2022-07-05T17:11:24.986024Z",
     "iopub.status.busy": "2022-07-05T17:11:24.985248Z",
     "iopub.status.idle": "2022-07-05T17:11:25.253904Z",
     "shell.execute_reply": "2022-07-05T17:11:25.252301Z"
    },
    "papermill": {
     "duration": 0.305788,
     "end_time": "2022-07-05T17:11:25.256567",
     "exception": false,
     "start_time": "2022-07-05T17:11:24.950779",
     "status": "completed"
    },
    "tags": []
   },
   "outputs": [
    {
     "data": {
      "text/plain": [
       "<Figure size 720x360 with 0 Axes>"
      ]
     },
     "metadata": {},
     "output_type": "display_data"
    },
    {
     "data": {
      "image/png": "[encoded data removed]",
      "text/plain": [
       "<Figure size 1440x576 with 1 Axes>"
      ]
     },
     "metadata": {
      "needs_background": "light"
     },
     "output_type": "display_data"
    }
   ],
   "source": [
    "plt.figure(figsize=(10,5))\n",
    "pop_bin_married=df_train.groupby(by='pop_bins')[['married','separated','divorced']].agg([\"mean\"])\n",
    "pop_bin_married.plot(figsize=(20,8))\n",
    "plt.legend(loc='best')\n",
    "plt.show()"
   ]
  },
  {
   "cell_type": "code",
   "execution_count": 37,
   "id": "a38d553a",
   "metadata": {
    "execution": {
     "iopub.execute_input": "2022-07-05T17:11:25.325863Z",
     "iopub.status.busy": "2022-07-05T17:11:25.325460Z",
     "iopub.status.idle": "2022-07-05T17:11:26.212721Z",
     "shell.execute_reply": "2022-07-05T17:11:26.211492Z"
    },
    "papermill": {
     "duration": 0.925184,
     "end_time": "2022-07-05T17:11:26.215023",
     "exception": false,
     "start_time": "2022-07-05T17:11:25.289839",
     "status": "completed"
    },
    "tags": []
   },
   "outputs": [
    {
     "data": {
      "image/png": "[encoded data removed]",
      "text/plain": [
       "<Figure size 432x288 with 1 Axes>"
      ]
     },
     "metadata": {
      "needs_background": "light"
     },
     "output_type": "display_data"
    },
    {
     "data": {
      "image/png": "[encoded data removed]",
      "text/plain": [
       "<Figure size 432x288 with 1 Axes>"
      ]
     },
     "metadata": {
      "needs_background": "light"
     },
     "output_type": "display_data"
    },
    {
     "data": {
      "image/png": "[encoded data removed]",
      "text/plain": [
       "<Figure size 432x288 with 1 Axes>"
      ]
     },
     "metadata": {
      "needs_background": "light"
     },
     "output_type": "display_data"
    },
    {
     "data": {
      "image/png": "[encoded data removed]",
      "text/plain": [
       "<Figure size 432x288 with 1 Axes>"
      ]
     },
     "metadata": {
      "needs_background": "light"
     },
     "output_type": "display_data"
    },
    {
     "data": {
      "image/png": "[encoded data removed]",
      "text/plain": [
       "<Figure size 432x288 with 1 Axes>"
      ]
     },
     "metadata": {
      "needs_background": "light"
     },
     "output_type": "display_data"
    }
   ],
   "source": [
    "df_train.groupby(by='pop_bins')[['married','divorced', 'separated']].plot.box(grid='True')\n",
    "plt.show()"
   ]
  },
  {
   "cell_type": "markdown",
   "id": "a52714f6",
   "metadata": {
    "papermill": {
     "duration": 0.031084,
     "end_time": "2022-07-05T17:11:26.277645",
     "exception": false,
     "start_time": "2022-07-05T17:11:26.246561",
     "status": "completed"
    },
    "tags": []
   },
   "source": [
    "#### Please detail your observations for rent as a percentage of income at an overall level, and for different states."
   ]
  },
  {
   "cell_type": "code",
   "execution_count": 38,
   "id": "575fda0e",
   "metadata": {
    "execution": {
     "iopub.execute_input": "2022-07-05T17:11:26.342533Z",
     "iopub.status.busy": "2022-07-05T17:11:26.341012Z",
     "iopub.status.idle": "2022-07-05T17:11:26.357308Z",
     "shell.execute_reply": "2022-07-05T17:11:26.356122Z"
    },
    "papermill": {
     "duration": 0.051062,
     "end_time": "2022-07-05T17:11:26.359716",
     "exception": false,
     "start_time": "2022-07-05T17:11:26.308654",
     "status": "completed"
    },
    "tags": []
   },
   "outputs": [
    {
     "data": {
      "text/html": [
       "<div>\n",
       "<style scoped>\n",
       "    .dataframe tbody tr th:only-of-type {\n",
       "        vertical-align: middle;\n",
       "    }\n",
       "\n",
       "    .dataframe tbody tr th {\n",
       "        vertical-align: top;\n",
       "    }\n",
       "\n",
       "    .dataframe thead th {\n",
       "        text-align: right;\n",
       "    }\n",
       "</style>\n",
       "<table border=\"1\" class=\"dataframe\">\n",
       "  <thead>\n",
       "    <tr style=\"text-align: right;\">\n",
       "      <th></th>\n",
       "      <th>mean</th>\n",
       "    </tr>\n",
       "    <tr>\n",
       "      <th>state</th>\n",
       "      <th></th>\n",
       "    </tr>\n",
       "  </thead>\n",
       "  <tbody>\n",
       "    <tr>\n",
       "      <th>Alabama</th>\n",
       "      <td>774.004927</td>\n",
       "    </tr>\n",
       "    <tr>\n",
       "      <th>Alaska</th>\n",
       "      <td>1185.763570</td>\n",
       "    </tr>\n",
       "    <tr>\n",
       "      <th>Arizona</th>\n",
       "      <td>1097.753511</td>\n",
       "    </tr>\n",
       "    <tr>\n",
       "      <th>Arkansas</th>\n",
       "      <td>720.918575</td>\n",
       "    </tr>\n",
       "    <tr>\n",
       "      <th>California</th>\n",
       "      <td>1471.133857</td>\n",
       "    </tr>\n",
       "  </tbody>\n",
       "</table>\n",
       "</div>"
      ],
      "text/plain": [
       "                   mean\n",
       "state                  \n",
       "Alabama      774.004927\n",
       "Alaska      1185.763570\n",
       "Arizona     1097.753511\n",
       "Arkansas     720.918575\n",
       "California  1471.133857"
      ]
     },
     "execution_count": 38,
     "metadata": {},
     "output_type": "execute_result"
    }
   ],
   "source": [
    "rent_state_mean=df_train.groupby(by='state')['rent_mean'].agg([\"mean\"])\n",
    "rent_state_mean.head()"
   ]
  },
  {
   "cell_type": "code",
   "execution_count": 39,
   "id": "1a668864",
   "metadata": {
    "execution": {
     "iopub.execute_input": "2022-07-05T17:11:26.423844Z",
     "iopub.status.busy": "2022-07-05T17:11:26.423409Z",
     "iopub.status.idle": "2022-07-05T17:11:26.439026Z",
     "shell.execute_reply": "2022-07-05T17:11:26.437334Z"
    },
    "papermill": {
     "duration": 0.050334,
     "end_time": "2022-07-05T17:11:26.441320",
     "exception": false,
     "start_time": "2022-07-05T17:11:26.390986",
     "status": "completed"
    },
    "tags": []
   },
   "outputs": [
    {
     "data": {
      "text/html": [
       "<div>\n",
       "<style scoped>\n",
       "    .dataframe tbody tr th:only-of-type {\n",
       "        vertical-align: middle;\n",
       "    }\n",
       "\n",
       "    .dataframe tbody tr th {\n",
       "        vertical-align: top;\n",
       "    }\n",
       "\n",
       "    .dataframe thead th {\n",
       "        text-align: right;\n",
       "    }\n",
       "</style>\n",
       "<table border=\"1\" class=\"dataframe\">\n",
       "  <thead>\n",
       "    <tr style=\"text-align: right;\">\n",
       "      <th></th>\n",
       "      <th>mean</th>\n",
       "    </tr>\n",
       "    <tr>\n",
       "      <th>state</th>\n",
       "      <th></th>\n",
       "    </tr>\n",
       "  </thead>\n",
       "  <tbody>\n",
       "    <tr>\n",
       "      <th>Alabama</th>\n",
       "      <td>67030.064213</td>\n",
       "    </tr>\n",
       "    <tr>\n",
       "      <th>Alaska</th>\n",
       "      <td>92136.545109</td>\n",
       "    </tr>\n",
       "    <tr>\n",
       "      <th>Arizona</th>\n",
       "      <td>73328.238798</td>\n",
       "    </tr>\n",
       "    <tr>\n",
       "      <th>Arkansas</th>\n",
       "      <td>64765.377850</td>\n",
       "    </tr>\n",
       "    <tr>\n",
       "      <th>California</th>\n",
       "      <td>87655.470820</td>\n",
       "    </tr>\n",
       "  </tbody>\n",
       "</table>\n",
       "</div>"
      ],
      "text/plain": [
       "                    mean\n",
       "state                   \n",
       "Alabama     67030.064213\n",
       "Alaska      92136.545109\n",
       "Arizona     73328.238798\n",
       "Arkansas    64765.377850\n",
       "California  87655.470820"
      ]
     },
     "execution_count": 39,
     "metadata": {},
     "output_type": "execute_result"
    }
   ],
   "source": [
    "income_state_mean=df_train.groupby(by='state')['family_mean'].agg([\"mean\"])\n",
    "income_state_mean.head()"
   ]
  },
  {
   "cell_type": "code",
   "execution_count": 40,
   "id": "abf1936b",
   "metadata": {
    "execution": {
     "iopub.execute_input": "2022-07-05T17:11:26.506828Z",
     "iopub.status.busy": "2022-07-05T17:11:26.505906Z",
     "iopub.status.idle": "2022-07-05T17:11:26.518237Z",
     "shell.execute_reply": "2022-07-05T17:11:26.516848Z"
    },
    "papermill": {
     "duration": 0.047618,
     "end_time": "2022-07-05T17:11:26.520654",
     "exception": false,
     "start_time": "2022-07-05T17:11:26.473036",
     "status": "completed"
    },
    "tags": []
   },
   "outputs": [
    {
     "data": {
      "text/plain": [
       "state\n",
       "Alabama                 0.011547\n",
       "Alaska                  0.012870\n",
       "Arizona                 0.014970\n",
       "Arkansas                0.011131\n",
       "California              0.016783\n",
       "Colorado                0.013529\n",
       "Connecticut             0.012637\n",
       "Delaware                0.012929\n",
       "District of Columbia    0.013198\n",
       "Florida                 0.015772\n",
       "Name: mean, dtype: float64"
      ]
     },
     "execution_count": 40,
     "metadata": {},
     "output_type": "execute_result"
    }
   ],
   "source": [
    "rent_perc_of_income=rent_state_mean['mean']/income_state_mean['mean']\n",
    "rent_perc_of_income.head(10)"
   ]
  },
  {
   "cell_type": "code",
   "execution_count": 41,
   "id": "26b20b96",
   "metadata": {
    "execution": {
     "iopub.execute_input": "2022-07-05T17:11:26.585590Z",
     "iopub.status.busy": "2022-07-05T17:11:26.584327Z",
     "iopub.status.idle": "2022-07-05T17:11:26.602816Z",
     "shell.execute_reply": "2022-07-05T17:11:26.601266Z"
    },
    "papermill": {
     "duration": 0.053774,
     "end_time": "2022-07-05T17:11:26.605434",
     "exception": false,
     "start_time": "2022-07-05T17:11:26.551660",
     "status": "completed"
    },
    "tags": []
   },
   "outputs": [
    {
     "data": {
      "text/plain": [
       "0.013358170721473864"
      ]
     },
     "execution_count": 41,
     "metadata": {},
     "output_type": "execute_result"
    }
   ],
   "source": [
    "sum(df_train['rent_mean'])/sum(df_train['family_mean'])"
   ]
  },
  {
   "cell_type": "markdown",
   "id": "b3a5ff76",
   "metadata": {
    "papermill": {
     "duration": 0.031873,
     "end_time": "2022-07-05T17:11:26.669382",
     "exception": false,
     "start_time": "2022-07-05T17:11:26.637509",
     "status": "completed"
    },
    "tags": []
   },
   "source": [
    "#### Perform correlation analysis for all the relevant variables by creating a heatmap. Describe your findings."
   ]
  },
  {
   "cell_type": "code",
   "execution_count": 42,
   "id": "572b709b",
   "metadata": {
    "execution": {
     "iopub.execute_input": "2022-07-05T17:11:26.734252Z",
     "iopub.status.busy": "2022-07-05T17:11:26.733794Z",
     "iopub.status.idle": "2022-07-05T17:11:27.392847Z",
     "shell.execute_reply": "2022-07-05T17:11:27.390953Z"
    },
    "papermill": {
     "duration": 0.694922,
     "end_time": "2022-07-05T17:11:27.395501",
     "exception": false,
     "start_time": "2022-07-05T17:11:26.700579",
     "status": "completed"
    },
    "tags": []
   },
   "outputs": [
    {
     "data": {
      "image/png": "[encoded data removed]",
      "text/plain": [
       "<Figure size 1224x504 with 2 Axes>"
      ]
     },
     "metadata": {
      "needs_background": "light"
     },
     "output_type": "display_data"
    }
   ],
   "source": [
    "plt.figure(figsize=(17,7))\n",
    "sns.heatmap(data=df_train[['hc_mortgage_mean','ALand','pop','rent_mean','hi_mean','hc_mean','family_mean',\n",
    "                           'hs_degree','debt','home_equity']].corr(),annot=True)\n",
    "plt.show()"
   ]
  },
  {
   "cell_type": "markdown",
   "id": "0aca6600",
   "metadata": {
    "papermill": {
     "duration": 0.033994,
     "end_time": "2022-07-05T17:11:27.462781",
     "exception": false,
     "start_time": "2022-07-05T17:11:27.428787",
     "status": "completed"
    },
    "tags": []
   },
   "source": [
    "rent_mean,hi_mean,hc_mean,family_mean has a good co relation with the target varianle i.e-hc_mortagage_mean"
   ]
  },
  {
   "cell_type": "markdown",
   "id": "bb9798e0",
   "metadata": {
    "papermill": {
     "duration": 0.032525,
     "end_time": "2022-07-05T17:11:27.528158",
     "exception": false,
     "start_time": "2022-07-05T17:11:27.495633",
     "status": "completed"
    },
    "tags": []
   },
   "source": [
    "## Project Task: Week 2"
   ]
  },
  {
   "cell_type": "markdown",
   "id": "ea351a50",
   "metadata": {
    "papermill": {
     "duration": 0.03324,
     "end_time": "2022-07-05T17:11:27.595108",
     "exception": false,
     "start_time": "2022-07-05T17:11:27.561868",
     "status": "completed"
    },
    "tags": []
   },
   "source": [
    "### Data Pre-processing:"
   ]
  },
  {
   "cell_type": "markdown",
   "id": "f115417c",
   "metadata": {
    "papermill": {
     "duration": 0.036333,
     "end_time": "2022-07-05T17:11:27.666766",
     "exception": false,
     "start_time": "2022-07-05T17:11:27.630433",
     "status": "completed"
    },
    "tags": []
   },
   "source": [
    "###### The economic multivariate data has a significant number of measured variables. The goal is to find where the measured variables depend on a number of smaller unobserved common factors or latent variables. Each variable is assumed to be dependent upon a linear combination of the common factors, and the coefficients are known as loadings. Each measured variable also includes a component due to independent random variability, known as “specific variance” because it is specific to one variable. Obtain the common factors and then plot the loadings. Use factor analysis to find latent variables in our dataset and gain insight into the linear relationships in the data. Following are the list of latent variables: Highschool graduation rates, Median population age, Second mortgage statistics, Percent own, Bad debt expense"
   ]
  },
  {
   "cell_type": "code",
   "execution_count": 43,
   "id": "c4960fe4",
   "metadata": {
    "execution": {
     "iopub.execute_input": "2022-07-05T17:11:27.742753Z",
     "iopub.status.busy": "2022-07-05T17:11:27.741810Z",
     "iopub.status.idle": "2022-07-05T17:11:42.035274Z",
     "shell.execute_reply": "2022-07-05T17:11:42.033395Z"
    },
    "papermill": {
     "duration": 14.335543,
     "end_time": "2022-07-05T17:11:42.038716",
     "exception": false,
     "start_time": "2022-07-05T17:11:27.703173",
     "status": "completed"
    },
    "tags": []
   },
   "outputs": [
    {
     "name": "stdout",
     "output_type": "stream",
     "text": [
      "Collecting factor_analyzer\r\n",
      "  Downloading factor_analyzer-0.4.0.tar.gz (41 kB)\r\n",
      "\u001b[2K     \u001b[90m━━━━━━━━━━━━━━━━━━━━━━━━━━━━━━━━━━━━━━━\u001b[0m \u001b[32m41.7/41.7 kB\u001b[0m \u001b[31m178.8 kB/s\u001b[0m eta \u001b[36m0:00:00\u001b[0m\r\n",
      "\u001b[?25h  Preparing metadata (setup.py) ... \u001b[?25l-\b \bdone\r\n",
      "\u001b[?25hRequirement already satisfied: pandas in /opt/conda/lib/python3.7/site-packages (from factor_analyzer) (1.3.5)\r\n",
      "Requirement already satisfied: scipy in /opt/conda/lib/python3.7/site-packages (from factor_analyzer) (1.7.3)\r\n",
      "Requirement already satisfied: numpy in /opt/conda/lib/python3.7/site-packages (from factor_analyzer) (1.21.6)\r\n",
      "Requirement already satisfied: scikit-learn in /opt/conda/lib/python3.7/site-packages (from factor_analyzer) (1.0.2)\r\n",
      "Requirement already satisfied: python-dateutil>=2.7.3 in /opt/conda/lib/python3.7/site-packages (from pandas->factor_analyzer) (2.8.2)\r\n",
      "Requirement already satisfied: pytz>=2017.3 in /opt/conda/lib/python3.7/site-packages (from pandas->factor_analyzer) (2022.1)\r\n",
      "Requirement already satisfied: joblib>=0.11 in /opt/conda/lib/python3.7/site-packages (from scikit-learn->factor_analyzer) (1.1.0)\r\n",
      "Requirement already satisfied: threadpoolctl>=2.0.0 in /opt/conda/lib/python3.7/site-packages (from scikit-learn->factor_analyzer) (3.1.0)\r\n",
      "Requirement already satisfied: six>=1.5 in /opt/conda/lib/python3.7/site-packages (from python-dateutil>=2.7.3->pandas->factor_analyzer) (1.16.0)\r\n",
      "Building wheels for collected packages: factor_analyzer\r\n",
      "  Building wheel for factor_analyzer (setup.py) ... \u001b[?25l-\b \b\\\b \bdone\r\n",
      "\u001b[?25h  Created wheel for factor_analyzer: filename=factor_analyzer-0.4.0-py3-none-any.whl size=41455 sha256=8354fd02ec0c059c782632b365d025fc366168c14621c4a1072da622a1202d2b\r\n",
      "  Stored in directory: /root/.cache/pip/wheels/ac/00/37/1f0e8a5039f9e9f207c4405bbce0796f07701eb377bfc6cc76\r\n",
      "Successfully built factor_analyzer\r\n",
      "Installing collected packages: factor_analyzer\r\n",
      "Successfully installed factor_analyzer-0.4.0\r\n",
      "\u001b[33mWARNING: Running pip as the 'root' user can result in broken permissions and conflicting behaviour with the system package manager. It is recommended to use a virtual environment instead: https://pip.pypa.io/warnings/venv\u001b[0m\u001b[33m\r\n",
      "\u001b[0m"
     ]
    }
   ],
   "source": [
    "!pip install factor_analyzer"
   ]
  },
  {
   "cell_type": "code",
   "execution_count": 44,
   "id": "a1b8709f",
   "metadata": {
    "execution": {
     "iopub.execute_input": "2022-07-05T17:11:42.114598Z",
     "iopub.status.busy": "2022-07-05T17:11:42.114195Z",
     "iopub.status.idle": "2022-07-05T17:11:42.126039Z",
     "shell.execute_reply": "2022-07-05T17:11:42.124616Z"
    },
    "papermill": {
     "duration": 0.053773,
     "end_time": "2022-07-05T17:11:42.129357",
     "exception": false,
     "start_time": "2022-07-05T17:11:42.075584",
     "status": "completed"
    },
    "tags": []
   },
   "outputs": [],
   "source": [
    "from sklearn.decomposition import FactorAnalysis\n",
    "from factor_analyzer import FactorAnalyzer"
   ]
  },
  {
   "cell_type": "code",
   "execution_count": 45,
   "id": "888cebaf",
   "metadata": {
    "execution": {
     "iopub.execute_input": "2022-07-05T17:11:42.204293Z",
     "iopub.status.busy": "2022-07-05T17:11:42.203608Z",
     "iopub.status.idle": "2022-07-05T17:11:42.237843Z",
     "shell.execute_reply": "2022-07-05T17:11:42.236599Z"
    },
    "papermill": {
     "duration": 0.075085,
     "end_time": "2022-07-05T17:11:42.241365",
     "exception": false,
     "start_time": "2022-07-05T17:11:42.166280",
     "status": "completed"
    },
    "tags": []
   },
   "outputs": [
    {
     "data": {
      "text/plain": [
       "0"
      ]
     },
     "execution_count": 45,
     "metadata": {},
     "output_type": "execute_result"
    }
   ],
   "source": [
    "df_train.isna().sum().sum()"
   ]
  },
  {
   "cell_type": "code",
   "execution_count": 46,
   "id": "9e46e927",
   "metadata": {
    "execution": {
     "iopub.execute_input": "2022-07-05T17:11:42.317190Z",
     "iopub.status.busy": "2022-07-05T17:11:42.316780Z",
     "iopub.status.idle": "2022-07-05T17:11:42.572253Z",
     "shell.execute_reply": "2022-07-05T17:11:42.571354Z"
    },
    "papermill": {
     "duration": 0.295935,
     "end_time": "2022-07-05T17:11:42.574615",
     "exception": false,
     "start_time": "2022-07-05T17:11:42.278680",
     "status": "completed"
    },
    "tags": []
   },
   "outputs": [
    {
     "data": {
      "text/html": [
       "<div>\n",
       "<style scoped>\n",
       "    .dataframe tbody tr th:only-of-type {\n",
       "        vertical-align: middle;\n",
       "    }\n",
       "\n",
       "    .dataframe tbody tr th {\n",
       "        vertical-align: top;\n",
       "    }\n",
       "\n",
       "    .dataframe thead th {\n",
       "        text-align: right;\n",
       "    }\n",
       "</style>\n",
       "<table border=\"1\" class=\"dataframe\">\n",
       "  <thead>\n",
       "    <tr style=\"text-align: right;\">\n",
       "      <th></th>\n",
       "      <th>count</th>\n",
       "      <th>mean</th>\n",
       "      <th>std</th>\n",
       "      <th>min</th>\n",
       "      <th>25%</th>\n",
       "      <th>50%</th>\n",
       "      <th>75%</th>\n",
       "      <th>max</th>\n",
       "    </tr>\n",
       "  </thead>\n",
       "  <tbody>\n",
       "    <tr>\n",
       "      <th>COUNTYID</th>\n",
       "      <td>27321.0</td>\n",
       "      <td>85.646426</td>\n",
       "      <td>98.333097</td>\n",
       "      <td>1.000000</td>\n",
       "      <td>29.000000</td>\n",
       "      <td>63.000000</td>\n",
       "      <td>109.000000</td>\n",
       "      <td>840.000000</td>\n",
       "    </tr>\n",
       "    <tr>\n",
       "      <th>STATEID</th>\n",
       "      <td>27321.0</td>\n",
       "      <td>28.271806</td>\n",
       "      <td>16.392846</td>\n",
       "      <td>1.000000</td>\n",
       "      <td>13.000000</td>\n",
       "      <td>28.000000</td>\n",
       "      <td>42.000000</td>\n",
       "      <td>72.000000</td>\n",
       "    </tr>\n",
       "    <tr>\n",
       "      <th>zip_code</th>\n",
       "      <td>27321.0</td>\n",
       "      <td>50081.999524</td>\n",
       "      <td>29558.115660</td>\n",
       "      <td>602.000000</td>\n",
       "      <td>26554.000000</td>\n",
       "      <td>47715.000000</td>\n",
       "      <td>77093.000000</td>\n",
       "      <td>99925.000000</td>\n",
       "    </tr>\n",
       "    <tr>\n",
       "      <th>area_code</th>\n",
       "      <td>27321.0</td>\n",
       "      <td>596.507668</td>\n",
       "      <td>232.497482</td>\n",
       "      <td>201.000000</td>\n",
       "      <td>405.000000</td>\n",
       "      <td>614.000000</td>\n",
       "      <td>801.000000</td>\n",
       "      <td>989.000000</td>\n",
       "    </tr>\n",
       "    <tr>\n",
       "      <th>lat</th>\n",
       "      <td>27321.0</td>\n",
       "      <td>37.508813</td>\n",
       "      <td>5.588268</td>\n",
       "      <td>17.929085</td>\n",
       "      <td>33.899064</td>\n",
       "      <td>38.755183</td>\n",
       "      <td>41.380606</td>\n",
       "      <td>67.074017</td>\n",
       "    </tr>\n",
       "    <tr>\n",
       "      <th>...</th>\n",
       "      <td>...</td>\n",
       "      <td>...</td>\n",
       "      <td>...</td>\n",
       "      <td>...</td>\n",
       "      <td>...</td>\n",
       "      <td>...</td>\n",
       "      <td>...</td>\n",
       "      <td>...</td>\n",
       "    </tr>\n",
       "    <tr>\n",
       "      <th>divorced</th>\n",
       "      <td>27321.0</td>\n",
       "      <td>0.100248</td>\n",
       "      <td>0.048883</td>\n",
       "      <td>0.000000</td>\n",
       "      <td>0.066080</td>\n",
       "      <td>0.095640</td>\n",
       "      <td>0.128710</td>\n",
       "      <td>1.000000</td>\n",
       "    </tr>\n",
       "    <tr>\n",
       "      <th>bad_debt</th>\n",
       "      <td>27321.0</td>\n",
       "      <td>0.105099</td>\n",
       "      <td>0.070907</td>\n",
       "      <td>0.000000</td>\n",
       "      <td>0.052790</td>\n",
       "      <td>0.100330</td>\n",
       "      <td>0.148330</td>\n",
       "      <td>1.000000</td>\n",
       "    </tr>\n",
       "    <tr>\n",
       "      <th>good_debt</th>\n",
       "      <td>27321.0</td>\n",
       "      <td>0.524090</td>\n",
       "      <td>0.131169</td>\n",
       "      <td>0.000000</td>\n",
       "      <td>0.449350</td>\n",
       "      <td>0.525220</td>\n",
       "      <td>0.604100</td>\n",
       "      <td>1.000000</td>\n",
       "    </tr>\n",
       "    <tr>\n",
       "      <th>pop_density</th>\n",
       "      <td>27321.0</td>\n",
       "      <td>0.002067</td>\n",
       "      <td>0.004597</td>\n",
       "      <td>0.000000</td>\n",
       "      <td>0.000120</td>\n",
       "      <td>0.000851</td>\n",
       "      <td>0.002060</td>\n",
       "      <td>0.076536</td>\n",
       "    </tr>\n",
       "    <tr>\n",
       "      <th>age_median</th>\n",
       "      <td>27321.0</td>\n",
       "      <td>39.214646</td>\n",
       "      <td>7.585480</td>\n",
       "      <td>13.375000</td>\n",
       "      <td>34.166665</td>\n",
       "      <td>39.214646</td>\n",
       "      <td>43.875000</td>\n",
       "      <td>80.166670</td>\n",
       "    </tr>\n",
       "  </tbody>\n",
       "</table>\n",
       "<p>75 rows × 8 columns</p>\n",
       "</div>"
      ],
      "text/plain": [
       "               count          mean           std         min           25%  \\\n",
       "COUNTYID     27321.0     85.646426     98.333097    1.000000     29.000000   \n",
       "STATEID      27321.0     28.271806     16.392846    1.000000     13.000000   \n",
       "zip_code     27321.0  50081.999524  29558.115660  602.000000  26554.000000   \n",
       "area_code    27321.0    596.507668    232.497482  201.000000    405.000000   \n",
       "lat          27321.0     37.508813      5.588268   17.929085     33.899064   \n",
       "...              ...           ...           ...         ...           ...   \n",
       "divorced     27321.0      0.100248      0.048883    0.000000      0.066080   \n",
       "bad_debt     27321.0      0.105099      0.070907    0.000000      0.052790   \n",
       "good_debt    27321.0      0.524090      0.131169    0.000000      0.449350   \n",
       "pop_density  27321.0      0.002067      0.004597    0.000000      0.000120   \n",
       "age_median   27321.0     39.214646      7.585480   13.375000     34.166665   \n",
       "\n",
       "                      50%           75%           max  \n",
       "COUNTYID        63.000000    109.000000    840.000000  \n",
       "STATEID         28.000000     42.000000     72.000000  \n",
       "zip_code     47715.000000  77093.000000  99925.000000  \n",
       "area_code      614.000000    801.000000    989.000000  \n",
       "lat             38.755183     41.380606     67.074017  \n",
       "...                   ...           ...           ...  \n",
       "divorced         0.095640      0.128710      1.000000  \n",
       "bad_debt         0.100330      0.148330      1.000000  \n",
       "good_debt        0.525220      0.604100      1.000000  \n",
       "pop_density      0.000851      0.002060      0.076536  \n",
       "age_median      39.214646     43.875000     80.166670  \n",
       "\n",
       "[75 rows x 8 columns]"
      ]
     },
     "execution_count": 46,
     "metadata": {},
     "output_type": "execute_result"
    }
   ],
   "source": [
    "df_train.describe().T"
   ]
  },
  {
   "cell_type": "code",
   "execution_count": 47,
   "id": "0aa177d7",
   "metadata": {
    "execution": {
     "iopub.execute_input": "2022-07-05T17:11:42.651701Z",
     "iopub.status.busy": "2022-07-05T17:11:42.650816Z",
     "iopub.status.idle": "2022-07-05T17:11:44.283439Z",
     "shell.execute_reply": "2022-07-05T17:11:44.282212Z"
    },
    "papermill": {
     "duration": 1.676068,
     "end_time": "2022-07-05T17:11:44.287378",
     "exception": false,
     "start_time": "2022-07-05T17:11:42.611310",
     "status": "completed"
    },
    "tags": []
   },
   "outputs": [
    {
     "data": {
      "text/plain": [
       "array([[-0.11482486,  0.01936373, -0.0245545 , -0.06169006,  0.03812136],\n",
       "       [-0.11040899,  0.01429921,  0.02466482, -0.14796223,  0.11258263],\n",
       "       [-0.0891633 ,  0.04864149, -0.12749732, -0.04931909, -0.11805326],\n",
       "       [ 0.01614823,  0.0188282 ,  0.00574863,  0.02659233, -0.00973247],\n",
       "       [ 0.09063446, -0.09926159, -0.05333377, -0.13305275, -0.14641971],\n",
       "       [-0.00541231, -0.03861633,  0.13839861,  0.0087652 ,  0.12166761],\n",
       "       [-0.04186143, -0.02024517,  0.03644117, -0.09300196,  0.06439296],\n",
       "       [-0.00198677, -0.0150142 , -0.00250851, -0.04444931,  0.02563787],\n",
       "       [ 0.07644546,  0.95538374, -0.08288847, -0.00717472, -0.05369428],\n",
       "       [ 0.07116302,  0.91659973, -0.10342851, -0.02796311, -0.05283109],\n",
       "       [ 0.07805517,  0.94595683, -0.05801542,  0.014232  , -0.05251385],\n",
       "       [ 0.76054105,  0.00785577, -0.03725022,  0.11387679, -0.14404772],\n",
       "       [ 0.70885223,  0.00394816, -0.04466907,  0.10817144, -0.15591822],\n",
       "       [ 0.70643091,  0.02688275, -0.02517887,  0.10292386,  0.06883074],\n",
       "       [-0.121171  ,  0.34301813, -0.51395397, -0.04394071,  0.31530346],\n",
       "       [ 0.24323023,  0.44469405, -0.67418607, -0.02865327,  0.33289809],\n",
       "       [-0.04675332,  0.03348746,  0.03198187,  0.44044074, -0.16982571],\n",
       "       [-0.02516145,  0.01631269,  0.04136892,  0.66998305, -0.16155433],\n",
       "       [-0.03634064, -0.01567031,  0.06956415,  0.82915629, -0.09407074],\n",
       "       [-0.04712843, -0.03348549,  0.09423676,  0.91747316, -0.04414534],\n",
       "       [-0.05620306, -0.04149989,  0.1177372 ,  0.9455834 , -0.02041133],\n",
       "       [-0.0412783 , -0.04959822,  0.12201165,  0.92570712,  0.00189047],\n",
       "       [-0.03738612, -0.05602061,  0.1102379 ,  0.88082494,  0.01283847],\n",
       "       [-0.02031965, -0.06992452,  0.07639515,  0.77345013,  0.03171296],\n",
       "       [ 0.2251697 ,  0.47338185, -0.64943551, -0.02812309,  0.3543915 ],\n",
       "       [ 0.24516516,  0.45397088, -0.66203052, -0.03064164,  0.32930184],\n",
       "       [ 0.77424469,  0.0458412 ,  0.15426491, -0.20366713, -0.16645682],\n",
       "       [ 0.69788073,  0.04545261,  0.14737086, -0.21735662, -0.22413607],\n",
       "       [ 0.8574494 ,  0.04437585,  0.15809972, -0.11959275,  0.02692193],\n",
       "       [-0.21235552,  0.85071283, -0.06515656,  0.06559846,  0.23273441],\n",
       "       [ 0.14775965,  0.95466245,  0.01314345, -0.04816855,  0.09715259],\n",
       "       [ 0.82240954,  0.03269749,  0.16390804, -0.20341937, -0.08254878],\n",
       "       [ 0.78596812,  0.02645931,  0.15603318, -0.20627097, -0.09951159],\n",
       "       [ 0.80935343,  0.04480529,  0.13331803, -0.1080682 ,  0.05512185],\n",
       "       [-0.33493419,  0.86485947,  0.03359967,  0.08892099,  0.04245147],\n",
       "       [ 0.04675906,  0.93278489,  0.15952872, -0.02606483, -0.10045735],\n",
       "       [ 0.97737122, -0.03058638, -0.12023358,  0.04422082,  0.06391006],\n",
       "       [ 0.95753903, -0.03670088, -0.13489606,  0.04450991,  0.05518235],\n",
       "       [ 0.81891125,  0.0062711 ,  0.0606408 ,  0.01965969,  0.13413669],\n",
       "       [-0.42447834,  0.71211816,  0.36471086, -0.07278991, -0.28356805],\n",
       "       [ 0.06479058,  0.71798807,  0.3011351 , -0.04925707, -0.36533168],\n",
       "       [ 0.90925697, -0.05005301, -0.06872999, -0.00156445,  0.15344428],\n",
       "       [ 0.8716504 , -0.04970069, -0.07950161, -0.00230469,  0.14169599],\n",
       "       [ 0.75826577,  0.00185445,  0.02736492,  0.00374285,  0.25783346],\n",
       "       [-0.11345436,  0.61298274,  0.62349708, -0.01999399,  0.28458499],\n",
       "       [-0.33349554,  0.5640579 ,  0.58243644, -0.02351225,  0.25401294],\n",
       "       [-0.1396263 , -0.02038192, -0.099815  ,  0.10703584, -0.6110833 ],\n",
       "       [-0.11556929, -0.02672498, -0.10052413,  0.12267069, -0.61948457],\n",
       "       [ 0.2633231 , -0.02989007,  0.02773139,  0.09313836, -0.58884018],\n",
       "       [ 0.17605066,  0.06500774, -0.27623932,  0.01755758, -0.70238432],\n",
       "       [ 0.09571294, -0.05641886, -0.08787959, -0.09217903,  0.64282044],\n",
       "       [-0.27816504, -0.00108849, -0.08724621, -0.09099696,  0.60287301],\n",
       "       [-0.18822895, -0.05993518,  0.32212719, -0.01484872,  0.70805648],\n",
       "       [ 0.3909693 ,  0.05805   ,  0.26868167, -0.2206138 , -0.1791089 ],\n",
       "       [ 0.40449326,  0.06000692,  0.23582956, -0.21037746, -0.16855005],\n",
       "       [ 0.35015101,  0.05083956,  0.28323451, -0.21703079, -0.17351309],\n",
       "       [ 0.24845274, -0.04071472,  0.78286571,  0.09032636,  0.37052567],\n",
       "       [ 0.25210151, -0.0270895 ,  0.80625444,  0.07208958,  0.28641365],\n",
       "       [-0.05920176,  0.06895631,  0.57728575,  0.08529851,  0.12110191],\n",
       "       [ 0.05379623,  0.81586991, -0.17149219, -0.0147333 , -0.04544873],\n",
       "       [ 0.06864776,  0.92118307, -0.10138082, -0.02787599, -0.05733179],\n",
       "       [ 0.20884889, -0.03872551,  0.76992343,  0.13951893,  0.37840595],\n",
       "       [ 0.20114043, -0.02576923,  0.83100792,  0.12749903,  0.29865452],\n",
       "       [-0.09355638,  0.06379344,  0.46282287,  0.07177015,  0.13940072],\n",
       "       [ 0.05905288,  0.87591732, -0.1452326 ,  0.02192923, -0.05554447],\n",
       "       [ 0.07559661,  0.95252903, -0.0559462 ,  0.01535826, -0.05728285],\n",
       "       [-0.04117529,  0.10599545,  0.809504  , -0.04276026, -0.26442387],\n",
       "       [ 0.17123065,  0.18784317,  0.5720988 , -0.12048879, -0.12264931],\n",
       "       [-0.06001845, -0.06689816, -0.28697978,  0.12758949,  0.18063491],\n",
       "       [-0.15149223, -0.06790769, -0.16008983,  0.12294432,  0.14495428],\n",
       "       [-0.34836642, -0.05022182,  0.13810517,  0.02668981,  0.12886669],\n",
       "       [ 0.26104601, -0.03305257,  0.02283549,  0.10263407, -0.60019879],\n",
       "       [ 0.07779706,  0.09682759, -0.32690031, -0.03383985, -0.46819901],\n",
       "       [ 0.35337034, -0.00539003, -0.42547831,  0.05776243,  0.27393592],\n",
       "       [ 0.23903134, -0.02686691,  0.86480584,  0.10861162,  0.31067539]])"
      ]
     },
     "execution_count": 47,
     "metadata": {},
     "output_type": "execute_result"
    }
   ],
   "source": [
    "fa=FactorAnalyzer(n_factors=5)\n",
    "fa.fit_transform(df_train.select_dtypes(exclude= ('object','category')))\n",
    "fa.loadings_"
   ]
  },
  {
   "cell_type": "markdown",
   "id": "6b629817",
   "metadata": {
    "papermill": {
     "duration": 0.049347,
     "end_time": "2022-07-05T17:11:44.402133",
     "exception": false,
     "start_time": "2022-07-05T17:11:44.352786",
     "status": "completed"
    },
    "tags": []
   },
   "source": [
    "### Data Modeling:"
   ]
  },
  {
   "cell_type": "markdown",
   "id": "b769461a",
   "metadata": {
    "papermill": {
     "duration": 0.034644,
     "end_time": "2022-07-05T17:11:44.471052",
     "exception": false,
     "start_time": "2022-07-05T17:11:44.436408",
     "status": "completed"
    },
    "tags": []
   },
   "source": [
    "#### Build a linear Regression model to predict the total monthly expenditure for home mortgages loan. "
   ]
  },
  {
   "cell_type": "markdown",
   "id": "a71a3be4",
   "metadata": {
    "papermill": {
     "duration": 0.034089,
     "end_time": "2022-07-05T17:11:44.539906",
     "exception": false,
     "start_time": "2022-07-05T17:11:44.505817",
     "status": "completed"
    },
    "tags": []
   },
   "source": [
    "###### Run a model at a Nation level. If the accuracy levels and R square are not satisfactory proceed to below step"
   ]
  },
  {
   "cell_type": "code",
   "execution_count": 48,
   "id": "4df69ca6",
   "metadata": {
    "execution": {
     "iopub.execute_input": "2022-07-05T17:11:44.610489Z",
     "iopub.status.busy": "2022-07-05T17:11:44.610122Z",
     "iopub.status.idle": "2022-07-05T17:11:44.618978Z",
     "shell.execute_reply": "2022-07-05T17:11:44.617617Z"
    },
    "papermill": {
     "duration": 0.047284,
     "end_time": "2022-07-05T17:11:44.621439",
     "exception": false,
     "start_time": "2022-07-05T17:11:44.574155",
     "status": "completed"
    },
    "tags": []
   },
   "outputs": [
    {
     "data": {
      "text/plain": [
       "Index(['COUNTYID', 'STATEID', 'state', 'state_ab', 'city', 'place', 'type',\n",
       "       'primary', 'zip_code', 'area_code', 'lat', 'lng', 'ALand', 'AWater',\n",
       "       'pop', 'male_pop', 'female_pop', 'rent_mean', 'rent_median',\n",
       "       'rent_stdev', 'rent_sample_weight', 'rent_samples', 'rent_gt_10',\n",
       "       'rent_gt_15', 'rent_gt_20', 'rent_gt_25', 'rent_gt_30', 'rent_gt_35',\n",
       "       'rent_gt_40', 'rent_gt_50', 'universe_samples', 'used_samples',\n",
       "       'hi_mean', 'hi_median', 'hi_stdev', 'hi_sample_weight', 'hi_samples',\n",
       "       'family_mean', 'family_median', 'family_stdev', 'family_sample_weight',\n",
       "       'family_samples', 'hc_mortgage_mean', 'hc_mortgage_median',\n",
       "       'hc_mortgage_stdev', 'hc_mortgage_sample_weight', 'hc_mortgage_samples',\n",
       "       'hc_mean', 'hc_median', 'hc_stdev', 'hc_samples', 'hc_sample_weight',\n",
       "       'home_equity_second_mortgage', 'second_mortgage', 'home_equity', 'debt',\n",
       "       'second_mortgage_cdf', 'home_equity_cdf', 'debt_cdf', 'hs_degree',\n",
       "       'hs_degree_male', 'hs_degree_female', 'male_age_mean',\n",
       "       'male_age_median', 'male_age_stdev', 'male_age_sample_weight',\n",
       "       'male_age_samples', 'female_age_mean', 'female_age_median',\n",
       "       'female_age_stdev', 'female_age_sample_weight', 'female_age_samples',\n",
       "       'pct_own', 'married', 'married_snp', 'separated', 'divorced',\n",
       "       'bad_debt', 'good_debt', 'pop_density', 'age_median', 'pop_bins'],\n",
       "      dtype='object')"
      ]
     },
     "execution_count": 48,
     "metadata": {},
     "output_type": "execute_result"
    }
   ],
   "source": [
    "df_train.columns"
   ]
  },
  {
   "cell_type": "code",
   "execution_count": 49,
   "id": "bcb5f187",
   "metadata": {
    "execution": {
     "iopub.execute_input": "2022-07-05T17:11:44.693350Z",
     "iopub.status.busy": "2022-07-05T17:11:44.692858Z",
     "iopub.status.idle": "2022-07-05T17:11:44.703612Z",
     "shell.execute_reply": "2022-07-05T17:11:44.702525Z"
    },
    "papermill": {
     "duration": 0.049617,
     "end_time": "2022-07-05T17:11:44.706169",
     "exception": false,
     "start_time": "2022-07-05T17:11:44.656552",
     "status": "completed"
    },
    "tags": []
   },
   "outputs": [
    {
     "data": {
      "text/plain": [
       "array(['City', 'Urban', 'Town', 'CDP', 'Village', 'Borough'], dtype=object)"
      ]
     },
     "execution_count": 49,
     "metadata": {},
     "output_type": "execute_result"
    }
   ],
   "source": [
    "df_train['type'].unique()"
   ]
  },
  {
   "cell_type": "code",
   "execution_count": 50,
   "id": "2af40ae5",
   "metadata": {
    "execution": {
     "iopub.execute_input": "2022-07-05T17:11:44.778502Z",
     "iopub.status.busy": "2022-07-05T17:11:44.778000Z",
     "iopub.status.idle": "2022-07-05T17:11:44.811312Z",
     "shell.execute_reply": "2022-07-05T17:11:44.810228Z"
    },
    "papermill": {
     "duration": 0.073201,
     "end_time": "2022-07-05T17:11:44.814274",
     "exception": false,
     "start_time": "2022-07-05T17:11:44.741073",
     "status": "completed"
    },
    "tags": []
   },
   "outputs": [],
   "source": [
    "type_dict={'type':{'City':1, 'Urban':2, 'Town':3, 'CDP':4, 'Village':5, 'Borough':6}}\n",
    "df_train.replace(type_dict,inplace=True)"
   ]
  },
  {
   "cell_type": "code",
   "execution_count": 51,
   "id": "81890684",
   "metadata": {
    "execution": {
     "iopub.execute_input": "2022-07-05T17:11:44.897225Z",
     "iopub.status.busy": "2022-07-05T17:11:44.895534Z",
     "iopub.status.idle": "2022-07-05T17:11:44.926194Z",
     "shell.execute_reply": "2022-07-05T17:11:44.925284Z"
    },
    "papermill": {
     "duration": 0.076614,
     "end_time": "2022-07-05T17:11:44.928717",
     "exception": false,
     "start_time": "2022-07-05T17:11:44.852103",
     "status": "completed"
    },
    "tags": []
   },
   "outputs": [],
   "source": [
    "df_test.replace(type_dict,inplace=True)"
   ]
  },
  {
   "cell_type": "code",
   "execution_count": 52,
   "id": "5b03ff98",
   "metadata": {
    "execution": {
     "iopub.execute_input": "2022-07-05T17:11:45.000208Z",
     "iopub.status.busy": "2022-07-05T17:11:44.998997Z",
     "iopub.status.idle": "2022-07-05T17:11:45.010036Z",
     "shell.execute_reply": "2022-07-05T17:11:45.008561Z"
    },
    "papermill": {
     "duration": 0.049841,
     "end_time": "2022-07-05T17:11:45.013092",
     "exception": false,
     "start_time": "2022-07-05T17:11:44.963251",
     "status": "completed"
    },
    "tags": []
   },
   "outputs": [
    {
     "data": {
      "text/plain": [
       "array([1, 2, 3, 4, 5, 6])"
      ]
     },
     "execution_count": 52,
     "metadata": {},
     "output_type": "execute_result"
    }
   ],
   "source": [
    "df_train['type'].unique()"
   ]
  },
  {
   "cell_type": "code",
   "execution_count": 53,
   "id": "dc06a1ff",
   "metadata": {
    "execution": {
     "iopub.execute_input": "2022-07-05T17:11:45.092359Z",
     "iopub.status.busy": "2022-07-05T17:11:45.091332Z",
     "iopub.status.idle": "2022-07-05T17:11:45.097017Z",
     "shell.execute_reply": "2022-07-05T17:11:45.095964Z"
    },
    "papermill": {
     "duration": 0.048124,
     "end_time": "2022-07-05T17:11:45.099805",
     "exception": false,
     "start_time": "2022-07-05T17:11:45.051681",
     "status": "completed"
    },
    "tags": []
   },
   "outputs": [],
   "source": [
    "feature_cols=['COUNTYID','STATEID','zip_code','type','pop', 'family_mean','second_mortgage', 'home_equity', 'debt','hs_degree',\n",
    "              'age_median','pct_own', 'married','separated', 'divorced']"
   ]
  },
  {
   "cell_type": "code",
   "execution_count": 54,
   "id": "d00a795b",
   "metadata": {
    "execution": {
     "iopub.execute_input": "2022-07-05T17:11:45.171906Z",
     "iopub.status.busy": "2022-07-05T17:11:45.171434Z",
     "iopub.status.idle": "2022-07-05T17:11:45.184305Z",
     "shell.execute_reply": "2022-07-05T17:11:45.182808Z"
    },
    "papermill": {
     "duration": 0.052171,
     "end_time": "2022-07-05T17:11:45.187014",
     "exception": false,
     "start_time": "2022-07-05T17:11:45.134843",
     "status": "completed"
    },
    "tags": []
   },
   "outputs": [],
   "source": [
    "xtrain=df_train[feature_cols]\n",
    "ytrain=df_train['hc_mortgage_mean']"
   ]
  },
  {
   "cell_type": "code",
   "execution_count": 55,
   "id": "cef280e2",
   "metadata": {
    "execution": {
     "iopub.execute_input": "2022-07-05T17:11:45.259045Z",
     "iopub.status.busy": "2022-07-05T17:11:45.257647Z",
     "iopub.status.idle": "2022-07-05T17:11:45.267552Z",
     "shell.execute_reply": "2022-07-05T17:11:45.265966Z"
    },
    "papermill": {
     "duration": 0.048628,
     "end_time": "2022-07-05T17:11:45.270440",
     "exception": false,
     "start_time": "2022-07-05T17:11:45.221812",
     "status": "completed"
    },
    "tags": []
   },
   "outputs": [],
   "source": [
    "xtest=df_test[feature_cols]\n",
    "ytest=df_test['hc_mortgage_mean']"
   ]
  },
  {
   "cell_type": "code",
   "execution_count": 56,
   "id": "ab54cbb4",
   "metadata": {
    "execution": {
     "iopub.execute_input": "2022-07-05T17:11:45.342590Z",
     "iopub.status.busy": "2022-07-05T17:11:45.342228Z",
     "iopub.status.idle": "2022-07-05T17:11:45.348941Z",
     "shell.execute_reply": "2022-07-05T17:11:45.347226Z"
    },
    "papermill": {
     "duration": 0.045107,
     "end_time": "2022-07-05T17:11:45.351505",
     "exception": false,
     "start_time": "2022-07-05T17:11:45.306398",
     "status": "completed"
    },
    "tags": []
   },
   "outputs": [],
   "source": [
    "from sklearn.preprocessing import StandardScaler\n",
    "from sklearn.linear_model import LinearRegression\n",
    "from sklearn.metrics import r2_score, mean_absolute_error,mean_squared_error,accuracy_score"
   ]
  },
  {
   "cell_type": "code",
   "execution_count": 57,
   "id": "e9004854",
   "metadata": {
    "execution": {
     "iopub.execute_input": "2022-07-05T17:11:45.423212Z",
     "iopub.status.busy": "2022-07-05T17:11:45.422835Z",
     "iopub.status.idle": "2022-07-05T17:11:45.445750Z",
     "shell.execute_reply": "2022-07-05T17:11:45.444236Z"
    },
    "papermill": {
     "duration": 0.061349,
     "end_time": "2022-07-05T17:11:45.448239",
     "exception": false,
     "start_time": "2022-07-05T17:11:45.386890",
     "status": "completed"
    },
    "tags": []
   },
   "outputs": [
    {
     "data": {
      "text/html": [
       "<div>\n",
       "<style scoped>\n",
       "    .dataframe tbody tr th:only-of-type {\n",
       "        vertical-align: middle;\n",
       "    }\n",
       "\n",
       "    .dataframe tbody tr th {\n",
       "        vertical-align: top;\n",
       "    }\n",
       "\n",
       "    .dataframe thead th {\n",
       "        text-align: right;\n",
       "    }\n",
       "</style>\n",
       "<table border=\"1\" class=\"dataframe\">\n",
       "  <thead>\n",
       "    <tr style=\"text-align: right;\">\n",
       "      <th></th>\n",
       "      <th>COUNTYID</th>\n",
       "      <th>STATEID</th>\n",
       "      <th>zip_code</th>\n",
       "      <th>type</th>\n",
       "      <th>pop</th>\n",
       "      <th>family_mean</th>\n",
       "      <th>second_mortgage</th>\n",
       "      <th>home_equity</th>\n",
       "      <th>debt</th>\n",
       "      <th>hs_degree</th>\n",
       "      <th>age_median</th>\n",
       "      <th>pct_own</th>\n",
       "      <th>married</th>\n",
       "      <th>separated</th>\n",
       "      <th>divorced</th>\n",
       "    </tr>\n",
       "    <tr>\n",
       "      <th>UID</th>\n",
       "      <th></th>\n",
       "      <th></th>\n",
       "      <th></th>\n",
       "      <th></th>\n",
       "      <th></th>\n",
       "      <th></th>\n",
       "      <th></th>\n",
       "      <th></th>\n",
       "      <th></th>\n",
       "      <th></th>\n",
       "      <th></th>\n",
       "      <th></th>\n",
       "      <th></th>\n",
       "      <th></th>\n",
       "      <th></th>\n",
       "    </tr>\n",
       "  </thead>\n",
       "  <tbody>\n",
       "    <tr>\n",
       "      <th>255504</th>\n",
       "      <td>163</td>\n",
       "      <td>26</td>\n",
       "      <td>48239</td>\n",
       "      <td>4</td>\n",
       "      <td>3417</td>\n",
       "      <td>53802.87122</td>\n",
       "      <td>0.06443</td>\n",
       "      <td>0.07651</td>\n",
       "      <td>0.63624</td>\n",
       "      <td>0.91047</td>\n",
       "      <td>30.791665</td>\n",
       "      <td>0.70252</td>\n",
       "      <td>0.28217</td>\n",
       "      <td>0.03813</td>\n",
       "      <td>0.14299</td>\n",
       "    </tr>\n",
       "    <tr>\n",
       "      <th>252676</th>\n",
       "      <td>1</td>\n",
       "      <td>23</td>\n",
       "      <td>4210</td>\n",
       "      <td>1</td>\n",
       "      <td>3796</td>\n",
       "      <td>85642.22095</td>\n",
       "      <td>0.01175</td>\n",
       "      <td>0.14375</td>\n",
       "      <td>0.64755</td>\n",
       "      <td>0.94290</td>\n",
       "      <td>46.375000</td>\n",
       "      <td>0.85128</td>\n",
       "      <td>0.64221</td>\n",
       "      <td>0.00000</td>\n",
       "      <td>0.13377</td>\n",
       "    </tr>\n",
       "    <tr>\n",
       "      <th>276314</th>\n",
       "      <td>15</td>\n",
       "      <td>42</td>\n",
       "      <td>14871</td>\n",
       "      <td>6</td>\n",
       "      <td>3944</td>\n",
       "      <td>65694.06582</td>\n",
       "      <td>0.01316</td>\n",
       "      <td>0.06497</td>\n",
       "      <td>0.45395</td>\n",
       "      <td>0.89238</td>\n",
       "      <td>43.208335</td>\n",
       "      <td>0.81897</td>\n",
       "      <td>0.59961</td>\n",
       "      <td>0.01358</td>\n",
       "      <td>0.10026</td>\n",
       "    </tr>\n",
       "    <tr>\n",
       "      <th>248614</th>\n",
       "      <td>231</td>\n",
       "      <td>21</td>\n",
       "      <td>42633</td>\n",
       "      <td>1</td>\n",
       "      <td>2508</td>\n",
       "      <td>44156.38709</td>\n",
       "      <td>0.00995</td>\n",
       "      <td>0.01741</td>\n",
       "      <td>0.41915</td>\n",
       "      <td>0.60908</td>\n",
       "      <td>45.500000</td>\n",
       "      <td>0.84609</td>\n",
       "      <td>0.56953</td>\n",
       "      <td>0.04694</td>\n",
       "      <td>0.12489</td>\n",
       "    </tr>\n",
       "    <tr>\n",
       "      <th>286865</th>\n",
       "      <td>355</td>\n",
       "      <td>48</td>\n",
       "      <td>78410</td>\n",
       "      <td>3</td>\n",
       "      <td>6230</td>\n",
       "      <td>123527.02420</td>\n",
       "      <td>0.00000</td>\n",
       "      <td>0.03440</td>\n",
       "      <td>0.63188</td>\n",
       "      <td>0.86297</td>\n",
       "      <td>43.208335</td>\n",
       "      <td>0.79077</td>\n",
       "      <td>0.57620</td>\n",
       "      <td>0.00588</td>\n",
       "      <td>0.16379</td>\n",
       "    </tr>\n",
       "  </tbody>\n",
       "</table>\n",
       "</div>"
      ],
      "text/plain": [
       "        COUNTYID  STATEID  zip_code  type   pop   family_mean  \\\n",
       "UID                                                             \n",
       "255504       163       26     48239     4  3417   53802.87122   \n",
       "252676         1       23      4210     1  3796   85642.22095   \n",
       "276314        15       42     14871     6  3944   65694.06582   \n",
       "248614       231       21     42633     1  2508   44156.38709   \n",
       "286865       355       48     78410     3  6230  123527.02420   \n",
       "\n",
       "        second_mortgage  home_equity     debt  hs_degree  age_median  pct_own  \\\n",
       "UID                                                                             \n",
       "255504          0.06443      0.07651  0.63624    0.91047   30.791665  0.70252   \n",
       "252676          0.01175      0.14375  0.64755    0.94290   46.375000  0.85128   \n",
       "276314          0.01316      0.06497  0.45395    0.89238   43.208335  0.81897   \n",
       "248614          0.00995      0.01741  0.41915    0.60908   45.500000  0.84609   \n",
       "286865          0.00000      0.03440  0.63188    0.86297   43.208335  0.79077   \n",
       "\n",
       "        married  separated  divorced  \n",
       "UID                                   \n",
       "255504  0.28217    0.03813   0.14299  \n",
       "252676  0.64221    0.00000   0.13377  \n",
       "276314  0.59961    0.01358   0.10026  \n",
       "248614  0.56953    0.04694   0.12489  \n",
       "286865  0.57620    0.00588   0.16379  "
      ]
     },
     "execution_count": 57,
     "metadata": {},
     "output_type": "execute_result"
    }
   ],
   "source": [
    "xtest.head()"
   ]
  },
  {
   "cell_type": "code",
   "execution_count": 58,
   "id": "261aa3d0",
   "metadata": {
    "execution": {
     "iopub.execute_input": "2022-07-05T17:11:45.522010Z",
     "iopub.status.busy": "2022-07-05T17:11:45.521465Z",
     "iopub.status.idle": "2022-07-05T17:11:45.551623Z",
     "shell.execute_reply": "2022-07-05T17:11:45.550058Z"
    },
    "papermill": {
     "duration": 0.070718,
     "end_time": "2022-07-05T17:11:45.554667",
     "exception": false,
     "start_time": "2022-07-05T17:11:45.483949",
     "status": "completed"
    },
    "tags": []
   },
   "outputs": [],
   "source": [
    "sc=StandardScaler()\n",
    "xtrain_scaled=sc.fit_transform(xtrain)\n",
    "xtest_scaled=sc.fit_transform(xtest)"
   ]
  },
  {
   "cell_type": "markdown",
   "id": "e900aa8f",
   "metadata": {
    "papermill": {
     "duration": 0.035108,
     "end_time": "2022-07-05T17:11:45.625594",
     "exception": false,
     "start_time": "2022-07-05T17:11:45.590486",
     "status": "completed"
    },
    "tags": []
   },
   "source": [
    "#### Run a model at a Nation level. If the accuracy levels and R square are not satisfactory proceed to below step."
   ]
  },
  {
   "cell_type": "code",
   "execution_count": 59,
   "id": "eca28da1",
   "metadata": {
    "execution": {
     "iopub.execute_input": "2022-07-05T17:11:45.698771Z",
     "iopub.status.busy": "2022-07-05T17:11:45.698284Z",
     "iopub.status.idle": "2022-07-05T17:11:45.736154Z",
     "shell.execute_reply": "2022-07-05T17:11:45.734882Z"
    },
    "papermill": {
     "duration": 0.079025,
     "end_time": "2022-07-05T17:11:45.739846",
     "exception": false,
     "start_time": "2022-07-05T17:11:45.660821",
     "status": "completed"
    },
    "tags": []
   },
   "outputs": [
    {
     "data": {
      "text/plain": [
       "LinearRegression()"
      ]
     },
     "execution_count": 59,
     "metadata": {},
     "output_type": "execute_result"
    }
   ],
   "source": [
    "lr=LinearRegression()\n",
    "lr.fit(xtrain_scaled,ytrain)"
   ]
  },
  {
   "cell_type": "code",
   "execution_count": 60,
   "id": "a334f227",
   "metadata": {
    "execution": {
     "iopub.execute_input": "2022-07-05T17:11:45.862054Z",
     "iopub.status.busy": "2022-07-05T17:11:45.861649Z",
     "iopub.status.idle": "2022-07-05T17:11:45.869184Z",
     "shell.execute_reply": "2022-07-05T17:11:45.867950Z"
    },
    "papermill": {
     "duration": 0.064966,
     "end_time": "2022-07-05T17:11:45.873556",
     "exception": false,
     "start_time": "2022-07-05T17:11:45.808590",
     "status": "completed"
    },
    "tags": []
   },
   "outputs": [],
   "source": [
    "ypred= lr.predict(xtest_scaled)"
   ]
  },
  {
   "cell_type": "markdown",
   "id": "343adc11",
   "metadata": {
    "papermill": {
     "duration": 0.056616,
     "end_time": "2022-07-05T17:11:45.997058",
     "exception": false,
     "start_time": "2022-07-05T17:11:45.940442",
     "status": "completed"
    },
    "tags": []
   },
   "source": [
    "###### R square of 60 percent and above should be achieved"
   ]
  },
  {
   "cell_type": "code",
   "execution_count": 61,
   "id": "e642780d",
   "metadata": {
    "execution": {
     "iopub.execute_input": "2022-07-05T17:11:46.070952Z",
     "iopub.status.busy": "2022-07-05T17:11:46.070550Z",
     "iopub.status.idle": "2022-07-05T17:11:46.079187Z",
     "shell.execute_reply": "2022-07-05T17:11:46.078118Z"
    },
    "papermill": {
     "duration": 0.048527,
     "end_time": "2022-07-05T17:11:46.082462",
     "exception": false,
     "start_time": "2022-07-05T17:11:46.033935",
     "status": "completed"
    },
    "tags": []
   },
   "outputs": [
    {
     "name": "stdout",
     "output_type": "stream",
     "text": [
      "Overall R2 score of linear regression model 0.7348210754610929\n",
      "Overall RMSE of linear regression model 323.1018894984635\n"
     ]
    }
   ],
   "source": [
    "print(\"Overall R2 score of linear regression model\", r2_score(ytest,ypred))\n",
    "print(\"Overall RMSE of linear regression model\", np.sqrt(mean_squared_error(ytest,ypred)))"
   ]
  },
  {
   "cell_type": "markdown",
   "id": "44c53cbc",
   "metadata": {
    "papermill": {
     "duration": 0.039296,
     "end_time": "2022-07-05T17:11:46.160852",
     "exception": false,
     "start_time": "2022-07-05T17:11:46.121556",
     "status": "completed"
    },
    "tags": []
   },
   "source": [
    "#### Run another model at State level. There are 52 states in USA."
   ]
  },
  {
   "cell_type": "code",
   "execution_count": 62,
   "id": "eb3703be",
   "metadata": {
    "execution": {
     "iopub.execute_input": "2022-07-05T17:11:46.243187Z",
     "iopub.status.busy": "2022-07-05T17:11:46.242252Z",
     "iopub.status.idle": "2022-07-05T17:11:46.251909Z",
     "shell.execute_reply": "2022-07-05T17:11:46.250380Z"
    },
    "papermill": {
     "duration": 0.052255,
     "end_time": "2022-07-05T17:11:46.254186",
     "exception": false,
     "start_time": "2022-07-05T17:11:46.201931",
     "status": "completed"
    },
    "tags": []
   },
   "outputs": [
    {
     "data": {
      "text/plain": [
       "array([36, 18, 72, 20,  1, 48, 45,  6,  5, 24, 17, 19, 47, 32, 22,  8, 44,\n",
       "       28, 34, 41,  4, 12, 55, 42, 37, 51, 26, 39, 40, 13, 16, 46, 27, 29,\n",
       "       53, 56,  9, 54, 21, 25, 11, 15, 30,  2, 33, 49, 50, 31, 38, 35, 23,\n",
       "       10])"
      ]
     },
     "execution_count": 62,
     "metadata": {},
     "output_type": "execute_result"
    }
   ],
   "source": [
    "state=df_train['STATEID'].unique()\n",
    "state"
   ]
  },
  {
   "cell_type": "code",
   "execution_count": 63,
   "id": "65020ea4",
   "metadata": {
    "execution": {
     "iopub.execute_input": "2022-07-05T17:11:46.329026Z",
     "iopub.status.busy": "2022-07-05T17:11:46.328045Z",
     "iopub.status.idle": "2022-07-05T17:11:46.393791Z",
     "shell.execute_reply": "2022-07-05T17:11:46.392100Z"
    },
    "papermill": {
     "duration": 0.106886,
     "end_time": "2022-07-05T17:11:46.396960",
     "exception": false,
     "start_time": "2022-07-05T17:11:46.290074",
     "status": "completed"
    },
    "tags": []
   },
   "outputs": [
    {
     "name": "stdout",
     "output_type": "stream",
     "text": [
      "State ID- 11\n",
      "Overall R2 score of linear regression model for state, 11 :- 0.7464857169444445\n",
      "Overall RMSE of linear regression model for state, 11 :- 238.10563068257596\n",
      "\n",
      "\n",
      "State ID- 33\n",
      "Overall R2 score of linear regression model for state, 33 :- 0.8615614207731608\n",
      "Overall RMSE of linear regression model for state, 33 :- 211.13273527746526\n",
      "\n",
      "\n",
      "State ID- 35\n",
      "Overall R2 score of linear regression model for state, 35 :- 0.7222435790509432\n",
      "Overall RMSE of linear regression model for state, 35 :- 255.60423285899904\n",
      "\n",
      "\n"
     ]
    }
   ],
   "source": [
    "for i in [11,33,35]:\n",
    "    print(\"State ID-\",i)\n",
    "    \n",
    "    xtrain_nation=df_train[df_train['COUNTYID']==i][feature_cols]\n",
    "    ytrain_nation=df_train[df_train['COUNTYID']==i]['hc_mortgage_mean']\n",
    "    \n",
    "    xtest_nation=df_test[df_test['COUNTYID']==i][feature_cols]\n",
    "    ytest_nation=df_test[df_test['COUNTYID']==i]['hc_mortgage_mean']\n",
    "    \n",
    "    xtrain_scaled_nation=sc.fit_transform(xtrain_nation)\n",
    "    xtest_scaled_nation=sc.fit_transform(xtest_nation)\n",
    "    \n",
    "    lr.fit(xtrain_scaled_nation,ytrain_nation)\n",
    "    ypred_nation=lr.predict(xtest_scaled_nation)\n",
    "    \n",
    "    print(\"Overall R2 score of linear regression model for state,\",i,\":-\" ,r2_score(ytest_nation,ypred_nation))\n",
    "    print(\"Overall RMSE of linear regression model for state,\",i,\":-\" ,np.sqrt(mean_squared_error(ytest_nation,ypred_nation)))\n",
    "    print(\"\\n\")"
   ]
  },
  {
   "cell_type": "markdown",
   "id": "8338780a",
   "metadata": {
    "papermill": {
     "duration": 0.037644,
     "end_time": "2022-07-05T17:11:46.473779",
     "exception": false,
     "start_time": "2022-07-05T17:11:46.436135",
     "status": "completed"
    },
    "tags": []
   },
   "source": [
    "###### Test if predicted variable is normally distributed"
   ]
  },
  {
   "cell_type": "code",
   "execution_count": 64,
   "id": "8bde3b64",
   "metadata": {
    "execution": {
     "iopub.execute_input": "2022-07-05T17:11:46.551567Z",
     "iopub.status.busy": "2022-07-05T17:11:46.551123Z",
     "iopub.status.idle": "2022-07-05T17:11:46.905020Z",
     "shell.execute_reply": "2022-07-05T17:11:46.904010Z"
    },
    "papermill": {
     "duration": 0.396201,
     "end_time": "2022-07-05T17:11:46.908005",
     "exception": false,
     "start_time": "2022-07-05T17:11:46.511804",
     "status": "completed"
    },
    "tags": []
   },
   "outputs": [
    {
     "name": "stderr",
     "output_type": "stream",
     "text": [
      "/opt/conda/lib/python3.7/site-packages/seaborn/distributions.py:2619: FutureWarning: `distplot` is a deprecated function and will be removed in a future version. Please adapt your code to use either `displot` (a figure-level function with similar flexibility) or `histplot` (an axes-level function for histograms).\n",
      "  warnings.warn(msg, FutureWarning)\n"
     ]
    },
    {
     "data": {
      "image/png": "[encoded data removed]",
      "text/plain": [
       "<Figure size 432x288 with 1 Axes>"
      ]
     },
     "metadata": {
      "needs_background": "light"
     },
     "output_type": "display_data"
    }
   ],
   "source": [
    "sns.distplot(ypred)\n",
    "plt.show()"
   ]
  },
  {
   "cell_type": "code",
   "execution_count": null,
   "id": "0e9b8809",
   "metadata": {
    "papermill": {
     "duration": 0.038421,
     "end_time": "2022-07-05T17:11:46.984489",
     "exception": false,
     "start_time": "2022-07-05T17:11:46.946068",
     "status": "completed"
    },
    "tags": []
   },
   "outputs": [],
   "source": []
  }
 ],
 "metadata": {
  "kernelspec": {
   "display_name": "Python 3 (ipykernel)",
   "language": "python",
   "name": "python3"
  },
  "language_info": {
   "codemirror_mode": {
    "name": "ipython",
    "version": 3
   },
   "file_extension": ".py",
   "mimetype": "text/x-python",
   "name": "python",
   "nbconvert_exporter": "python",
   "pygments_lexer": "ipython3",
   "version": "3.9.13"
  },
  "papermill": {
   "default_parameters": {},
   "duration": 60.876886,
   "end_time": "2022-07-05T17:11:47.946580",
   "environment_variables": {},
   "exception": null,
   "input_path": "__notebook__.ipynb",
   "output_path": "__notebook__.ipynb",
   "parameters": {},
   "start_time": "2022-07-05T17:10:47.069694",
   "version": "2.3.4"
  }
 },
 "nbformat": 4,
 "nbformat_minor": 5
}
